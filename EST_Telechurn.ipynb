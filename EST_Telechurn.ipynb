{
 "cells": [
  {
   "cell_type": "markdown",
   "metadata": {
    "id": "W211oCJit6j_"
   },
   "source": [
    "## **ENSEMBLE TECHNIQUES **\n",
    "\n",
    "**• DOMAIN:** Telecom\n",
    "\n",
    "**• CONTEXT:** \n",
    "\n",
    "A telecom company wants to use their historical customer data to predict behaviour to retain customers. You can analyse all relevant customer data and develop focused customer retention programs.\n",
    "\n",
    "**• DATA DESCRIPTION:**\n",
    "\n",
    "Each row represents a customer, each column contains customer’s attributes described on the column\n",
    "Metadata. \n",
    "\n",
    "**The data set includes information about:**\n",
    "\n",
    "• Customers who left within the last month – the column is called Churn\n",
    "\n",
    "• Services that each customer has signed up for – phone, multiple lines, internet, online security, online backup, device protection, tech support, and streaming TV and movies\n",
    "\n",
    "•  Customer account information – how long they’ve been a customer, contract, payment method, paperless billing, monthly\n",
    "charges, and total charges\n",
    "\n",
    "• Demographic info about customers – gender, age range, and if they have partners and dependents\n",
    "\n",
    "**• PROJECT OBJECTIVE:** \n",
    "\n",
    "Build a model that will help to identify the potential customers who have a higher probability to churn. This help the company to understand the pinpoints and patterns of customer churn and will increase the focus on strategising\n",
    "customer retention.\n"
   ]
  },
  {
   "cell_type": "code",
   "execution_count": null,
   "metadata": {},
   "outputs": [],
   "source": [
    "# lOAD NECESSARY PACKAGES FOR ENSEMBLE METHODS\n",
    "import sys\n",
    "\n",
    "!{sys.executable} -m pip install lightgbm          # install lightgbm \n",
    "!pip install catboost                              # install catboost\n",
    "!pip install xgboost                               # install xgboost"
   ]
  },
  {
   "cell_type": "markdown",
   "metadata": {
    "id": "dW3UR08VvxgO"
   },
   "source": [
    "# **1. Import and warehouse data:**\n",
    "• Import all the given datasets. Explore shape and size.\n",
    "\n",
    "• Merge all datasets onto one and explore final shape and size."
   ]
  },
  {
   "cell_type": "markdown",
   "metadata": {
    "id": "K-IQ7aS7t6kL"
   },
   "source": [
    "**Import necessary libraries**"
   ]
  },
  {
   "cell_type": "code",
   "execution_count": 1,
   "metadata": {
    "id": "lpt8Znpkt6kM"
   },
   "outputs": [],
   "source": [
    "import matplotlib.pyplot as plt\n",
    "%matplotlib inline\n",
    "import pandas as pd\n",
    "import numpy as np\n",
    "import seaborn as sns\n",
    "\n",
    "import warnings\n",
    "warnings.filterwarnings('ignore')"
   ]
  },
  {
   "cell_type": "markdown",
   "metadata": {
    "id": "tH1XmaWtt6kN"
   },
   "source": [
    "**• Import all the given datasets and explore shape and size of each.**"
   ]
  },
  {
   "cell_type": "code",
   "execution_count": 2,
   "metadata": {
    "id": "bCxssjOut6kO"
   },
   "outputs": [],
   "source": [
    "df1 = pd.read_csv(\"TelcomCustomer-Churn_1.csv\")\n",
    "df2 = pd.read_csv(\"TelcomCustomer-Churn_2.csv\")"
   ]
  },
  {
   "cell_type": "code",
   "execution_count": 3,
   "metadata": {
    "colab": {
     "base_uri": "https://localhost:8080/"
    },
    "id": "ABTsO9Uqt6kQ",
    "outputId": "791ae3ee-b4e4-42c1-d2d6-3edbf27e78f1"
   },
   "outputs": [
    {
     "data": {
      "text/plain": [
       "(7043, 10)"
      ]
     },
     "execution_count": 3,
     "metadata": {},
     "output_type": "execute_result"
    }
   ],
   "source": [
    "# Explore shape and size of first dataset\n",
    "df1.shape"
   ]
  },
  {
   "cell_type": "markdown",
   "metadata": {
    "id": "ySwJIn_tt6kS"
   },
   "source": [
    "**Check dimension and datatypes of all the columns of three datasets**"
   ]
  },
  {
   "cell_type": "code",
   "execution_count": 4,
   "metadata": {
    "colab": {
     "base_uri": "https://localhost:8080/",
     "height": 590
    },
    "id": "gu94BvjhzzVd",
    "outputId": "79649b76-16e2-4280-e40c-ab932b406d84"
   },
   "outputs": [
    {
     "name": "stdout",
     "output_type": "stream",
     "text": [
      "<class 'pandas.core.frame.DataFrame'>\n",
      "RangeIndex: 7043 entries, 0 to 7042\n",
      "Data columns (total 10 columns):\n",
      " #   Column           Non-Null Count  Dtype \n",
      "---  ------           --------------  ----- \n",
      " 0   customerID       7043 non-null   object\n",
      " 1   gender           7043 non-null   object\n",
      " 2   SeniorCitizen    7043 non-null   int64 \n",
      " 3   Partner          7043 non-null   object\n",
      " 4   Dependents       7043 non-null   object\n",
      " 5   tenure           7043 non-null   int64 \n",
      " 6   PhoneService     7043 non-null   object\n",
      " 7   MultipleLines    7043 non-null   object\n",
      " 8   InternetService  7043 non-null   object\n",
      " 9   OnlineSecurity   7043 non-null   object\n",
      "dtypes: int64(2), object(8)\n",
      "memory usage: 550.4+ KB\n"
     ]
    },
    {
     "data": {
      "text/html": [
       "<div>\n",
       "<style scoped>\n",
       "    .dataframe tbody tr th:only-of-type {\n",
       "        vertical-align: middle;\n",
       "    }\n",
       "\n",
       "    .dataframe tbody tr th {\n",
       "        vertical-align: top;\n",
       "    }\n",
       "\n",
       "    .dataframe thead th {\n",
       "        text-align: right;\n",
       "    }\n",
       "</style>\n",
       "<table border=\"1\" class=\"dataframe\">\n",
       "  <thead>\n",
       "    <tr style=\"text-align: right;\">\n",
       "      <th></th>\n",
       "      <th>customerID</th>\n",
       "      <th>gender</th>\n",
       "      <th>SeniorCitizen</th>\n",
       "      <th>Partner</th>\n",
       "      <th>Dependents</th>\n",
       "      <th>tenure</th>\n",
       "      <th>PhoneService</th>\n",
       "      <th>MultipleLines</th>\n",
       "      <th>InternetService</th>\n",
       "      <th>OnlineSecurity</th>\n",
       "    </tr>\n",
       "  </thead>\n",
       "  <tbody>\n",
       "    <tr>\n",
       "      <th>0</th>\n",
       "      <td>7590-VHVEG</td>\n",
       "      <td>Female</td>\n",
       "      <td>0</td>\n",
       "      <td>Yes</td>\n",
       "      <td>No</td>\n",
       "      <td>1</td>\n",
       "      <td>No</td>\n",
       "      <td>No phone service</td>\n",
       "      <td>DSL</td>\n",
       "      <td>No</td>\n",
       "    </tr>\n",
       "    <tr>\n",
       "      <th>1</th>\n",
       "      <td>5575-GNVDE</td>\n",
       "      <td>Male</td>\n",
       "      <td>0</td>\n",
       "      <td>No</td>\n",
       "      <td>No</td>\n",
       "      <td>34</td>\n",
       "      <td>Yes</td>\n",
       "      <td>No</td>\n",
       "      <td>DSL</td>\n",
       "      <td>Yes</td>\n",
       "    </tr>\n",
       "    <tr>\n",
       "      <th>2</th>\n",
       "      <td>3668-QPYBK</td>\n",
       "      <td>Male</td>\n",
       "      <td>0</td>\n",
       "      <td>No</td>\n",
       "      <td>No</td>\n",
       "      <td>2</td>\n",
       "      <td>Yes</td>\n",
       "      <td>No</td>\n",
       "      <td>DSL</td>\n",
       "      <td>Yes</td>\n",
       "    </tr>\n",
       "    <tr>\n",
       "      <th>3</th>\n",
       "      <td>7795-CFOCW</td>\n",
       "      <td>Male</td>\n",
       "      <td>0</td>\n",
       "      <td>No</td>\n",
       "      <td>No</td>\n",
       "      <td>45</td>\n",
       "      <td>No</td>\n",
       "      <td>No phone service</td>\n",
       "      <td>DSL</td>\n",
       "      <td>Yes</td>\n",
       "    </tr>\n",
       "    <tr>\n",
       "      <th>4</th>\n",
       "      <td>9237-HQITU</td>\n",
       "      <td>Female</td>\n",
       "      <td>0</td>\n",
       "      <td>No</td>\n",
       "      <td>No</td>\n",
       "      <td>2</td>\n",
       "      <td>Yes</td>\n",
       "      <td>No</td>\n",
       "      <td>Fiber optic</td>\n",
       "      <td>No</td>\n",
       "    </tr>\n",
       "  </tbody>\n",
       "</table>\n",
       "</div>"
      ],
      "text/plain": [
       "   customerID  gender  SeniorCitizen Partner Dependents  tenure PhoneService  \\\n",
       "0  7590-VHVEG  Female              0     Yes         No       1           No   \n",
       "1  5575-GNVDE    Male              0      No         No      34          Yes   \n",
       "2  3668-QPYBK    Male              0      No         No       2          Yes   \n",
       "3  7795-CFOCW    Male              0      No         No      45           No   \n",
       "4  9237-HQITU  Female              0      No         No       2          Yes   \n",
       "\n",
       "      MultipleLines InternetService OnlineSecurity  \n",
       "0  No phone service             DSL             No  \n",
       "1                No             DSL            Yes  \n",
       "2                No             DSL            Yes  \n",
       "3  No phone service             DSL            Yes  \n",
       "4                No     Fiber optic             No  "
      ]
     },
     "execution_count": 4,
     "metadata": {},
     "output_type": "execute_result"
    }
   ],
   "source": [
    "# Checking attributes of first dataset\n",
    "df1.info()\n",
    "df1.head()"
   ]
  },
  {
   "cell_type": "code",
   "execution_count": 5,
   "metadata": {
    "colab": {
     "base_uri": "https://localhost:8080/"
    },
    "id": "tVrQ_PRI0Vl0",
    "outputId": "467e95b7-157a-4567-b85c-679a1408aca7"
   },
   "outputs": [
    {
     "data": {
      "text/plain": [
       "(7043, 11)"
      ]
     },
     "execution_count": 5,
     "metadata": {},
     "output_type": "execute_result"
    }
   ],
   "source": [
    "# Explore shape and size of second dataset\n",
    "df2.shape"
   ]
  },
  {
   "cell_type": "code",
   "execution_count": 6,
   "metadata": {
    "colab": {
     "base_uri": "https://localhost:8080/",
     "height": 590
    },
    "id": "drzneEoq0duN",
    "outputId": "f715191e-e097-4842-891b-a076779cbf3b"
   },
   "outputs": [
    {
     "name": "stdout",
     "output_type": "stream",
     "text": [
      "<class 'pandas.core.frame.DataFrame'>\n",
      "RangeIndex: 7043 entries, 0 to 7042\n",
      "Data columns (total 11 columns):\n",
      " #   Column            Non-Null Count  Dtype  \n",
      "---  ------            --------------  -----  \n",
      " 0   OnlineBackup      7043 non-null   object \n",
      " 1   DeviceProtection  7043 non-null   object \n",
      " 2   TechSupport       7043 non-null   object \n",
      " 3   StreamingTV       7043 non-null   object \n",
      " 4   StreamingMovies   7043 non-null   object \n",
      " 5   Contract          7043 non-null   object \n",
      " 6   PaperlessBilling  7043 non-null   object \n",
      " 7   PaymentMethod     7043 non-null   object \n",
      " 8   MonthlyCharges    7043 non-null   float64\n",
      " 9   TotalCharges      7043 non-null   object \n",
      " 10  Churn             7043 non-null   object \n",
      "dtypes: float64(1), object(10)\n",
      "memory usage: 605.4+ KB\n"
     ]
    },
    {
     "data": {
      "text/html": [
       "<div>\n",
       "<style scoped>\n",
       "    .dataframe tbody tr th:only-of-type {\n",
       "        vertical-align: middle;\n",
       "    }\n",
       "\n",
       "    .dataframe tbody tr th {\n",
       "        vertical-align: top;\n",
       "    }\n",
       "\n",
       "    .dataframe thead th {\n",
       "        text-align: right;\n",
       "    }\n",
       "</style>\n",
       "<table border=\"1\" class=\"dataframe\">\n",
       "  <thead>\n",
       "    <tr style=\"text-align: right;\">\n",
       "      <th></th>\n",
       "      <th>OnlineBackup</th>\n",
       "      <th>DeviceProtection</th>\n",
       "      <th>TechSupport</th>\n",
       "      <th>StreamingTV</th>\n",
       "      <th>StreamingMovies</th>\n",
       "      <th>Contract</th>\n",
       "      <th>PaperlessBilling</th>\n",
       "      <th>PaymentMethod</th>\n",
       "      <th>MonthlyCharges</th>\n",
       "      <th>TotalCharges</th>\n",
       "      <th>Churn</th>\n",
       "    </tr>\n",
       "  </thead>\n",
       "  <tbody>\n",
       "    <tr>\n",
       "      <th>0</th>\n",
       "      <td>Yes</td>\n",
       "      <td>No</td>\n",
       "      <td>No</td>\n",
       "      <td>No</td>\n",
       "      <td>No</td>\n",
       "      <td>Month-to-month</td>\n",
       "      <td>Yes</td>\n",
       "      <td>Electronic check</td>\n",
       "      <td>29.85</td>\n",
       "      <td>29.85</td>\n",
       "      <td>No</td>\n",
       "    </tr>\n",
       "    <tr>\n",
       "      <th>1</th>\n",
       "      <td>No</td>\n",
       "      <td>Yes</td>\n",
       "      <td>No</td>\n",
       "      <td>No</td>\n",
       "      <td>No</td>\n",
       "      <td>One year</td>\n",
       "      <td>No</td>\n",
       "      <td>Mailed check</td>\n",
       "      <td>56.95</td>\n",
       "      <td>1889.5</td>\n",
       "      <td>No</td>\n",
       "    </tr>\n",
       "    <tr>\n",
       "      <th>2</th>\n",
       "      <td>Yes</td>\n",
       "      <td>No</td>\n",
       "      <td>No</td>\n",
       "      <td>No</td>\n",
       "      <td>No</td>\n",
       "      <td>Month-to-month</td>\n",
       "      <td>Yes</td>\n",
       "      <td>Mailed check</td>\n",
       "      <td>53.85</td>\n",
       "      <td>108.15</td>\n",
       "      <td>Yes</td>\n",
       "    </tr>\n",
       "    <tr>\n",
       "      <th>3</th>\n",
       "      <td>No</td>\n",
       "      <td>Yes</td>\n",
       "      <td>Yes</td>\n",
       "      <td>No</td>\n",
       "      <td>No</td>\n",
       "      <td>One year</td>\n",
       "      <td>No</td>\n",
       "      <td>Bank transfer (automatic)</td>\n",
       "      <td>42.30</td>\n",
       "      <td>1840.75</td>\n",
       "      <td>No</td>\n",
       "    </tr>\n",
       "    <tr>\n",
       "      <th>4</th>\n",
       "      <td>No</td>\n",
       "      <td>No</td>\n",
       "      <td>No</td>\n",
       "      <td>No</td>\n",
       "      <td>No</td>\n",
       "      <td>Month-to-month</td>\n",
       "      <td>Yes</td>\n",
       "      <td>Electronic check</td>\n",
       "      <td>70.70</td>\n",
       "      <td>151.65</td>\n",
       "      <td>Yes</td>\n",
       "    </tr>\n",
       "  </tbody>\n",
       "</table>\n",
       "</div>"
      ],
      "text/plain": [
       "  OnlineBackup DeviceProtection TechSupport StreamingTV StreamingMovies  \\\n",
       "0          Yes               No          No          No              No   \n",
       "1           No              Yes          No          No              No   \n",
       "2          Yes               No          No          No              No   \n",
       "3           No              Yes         Yes          No              No   \n",
       "4           No               No          No          No              No   \n",
       "\n",
       "         Contract PaperlessBilling              PaymentMethod  MonthlyCharges  \\\n",
       "0  Month-to-month              Yes           Electronic check           29.85   \n",
       "1        One year               No               Mailed check           56.95   \n",
       "2  Month-to-month              Yes               Mailed check           53.85   \n",
       "3        One year               No  Bank transfer (automatic)           42.30   \n",
       "4  Month-to-month              Yes           Electronic check           70.70   \n",
       "\n",
       "  TotalCharges Churn  \n",
       "0        29.85    No  \n",
       "1       1889.5    No  \n",
       "2       108.15   Yes  \n",
       "3      1840.75    No  \n",
       "4       151.65   Yes  "
      ]
     },
     "execution_count": 6,
     "metadata": {},
     "output_type": "execute_result"
    }
   ],
   "source": [
    "# Checking attributes of second dataset\n",
    "df2.info()\n",
    "df2.head()"
   ]
  },
  {
   "cell_type": "markdown",
   "metadata": {
    "id": "nGebi19-1tqa"
   },
   "source": [
    "**Merge both the  datasets onto one and explore final shape and size.** "
   ]
  },
  {
   "cell_type": "code",
   "execution_count": 7,
   "metadata": {
    "id": "jy_OAU401uTB"
   },
   "outputs": [],
   "source": [
    "# Merging both the datasets \n",
    "TeleChurn = pd.concat([df1,df2],axis=1,sort=False) "
   ]
  },
  {
   "cell_type": "code",
   "execution_count": 8,
   "metadata": {
    "colab": {
     "base_uri": "https://localhost:8080/"
    },
    "id": "1PupPOog2b8g",
    "outputId": "088dbe8f-8193-4b54-f2cf-802ee8216866"
   },
   "outputs": [
    {
     "name": "stdout",
     "output_type": "stream",
     "text": [
      " Shape of the dataframe = (7043, 21)\n"
     ]
    }
   ],
   "source": [
    "# Check the dimensions of final dataset\n",
    "print(f\" Shape of the dataframe = {TeleChurn.shape}\")"
   ]
  },
  {
   "cell_type": "markdown",
   "metadata": {
    "id": "n8mSafnuOTPb"
   },
   "source": [
    "There are 20 features (independent variables) and 1 target (dependent) variable for 7043 customers. \n",
    "Target variable indicates if a customer has left the company (i.e. churn=yes). \n",
    "Since the target variable has two states (yes/no or 1/0), this is a binary classification problem."
   ]
  },
  {
   "cell_type": "markdown",
   "metadata": {
    "id": "fwxcvurq28r_"
   },
   "source": [
    "# **2. Data cleansing: [ Score: 10 point ]**\n",
    "• Missing value treatment\n",
    "\n",
    "• Convert categorical attributes to continuous using relevant functional knowledge\n",
    "\n",
    "• Drop attribute/s if required using relevant functional knowledge\n",
    "\n",
    "• Automate all the above steps"
   ]
  },
  {
   "cell_type": "code",
   "execution_count": 9,
   "metadata": {
    "colab": {
     "base_uri": "https://localhost:8080/"
    },
    "id": "k-oGS5NF2wkI",
    "outputId": "59eb0fb3-2650-4c73-9c76-d3dd3a6545da"
   },
   "outputs": [
    {
     "name": "stdout",
     "output_type": "stream",
     "text": [
      "<class 'pandas.core.frame.DataFrame'>\n",
      "RangeIndex: 7043 entries, 0 to 7042\n",
      "Data columns (total 21 columns):\n",
      " #   Column            Non-Null Count  Dtype  \n",
      "---  ------            --------------  -----  \n",
      " 0   customerID        7043 non-null   object \n",
      " 1   gender            7043 non-null   object \n",
      " 2   SeniorCitizen     7043 non-null   int64  \n",
      " 3   Partner           7043 non-null   object \n",
      " 4   Dependents        7043 non-null   object \n",
      " 5   tenure            7043 non-null   int64  \n",
      " 6   PhoneService      7043 non-null   object \n",
      " 7   MultipleLines     7043 non-null   object \n",
      " 8   InternetService   7043 non-null   object \n",
      " 9   OnlineSecurity    7043 non-null   object \n",
      " 10  OnlineBackup      7043 non-null   object \n",
      " 11  DeviceProtection  7043 non-null   object \n",
      " 12  TechSupport       7043 non-null   object \n",
      " 13  StreamingTV       7043 non-null   object \n",
      " 14  StreamingMovies   7043 non-null   object \n",
      " 15  Contract          7043 non-null   object \n",
      " 16  PaperlessBilling  7043 non-null   object \n",
      " 17  PaymentMethod     7043 non-null   object \n",
      " 18  MonthlyCharges    7043 non-null   float64\n",
      " 19  TotalCharges      7043 non-null   object \n",
      " 20  Churn             7043 non-null   object \n",
      "dtypes: float64(1), int64(2), object(18)\n",
      "memory usage: 1.1+ MB\n"
     ]
    }
   ],
   "source": [
    "# Explore data type of each columns of final dataset. \n",
    "TeleChurn.info()"
   ]
  },
  {
   "cell_type": "markdown",
   "metadata": {
    "id": "F8sjDZJs7QjQ"
   },
   "source": [
    "### **In the complete dataset there are :**\n",
    "\n",
    "**18 columns which has datatype as 'Object'**, \n",
    "\n",
    "**2 columns with datatype as 'int' and** \n",
    "\n",
    "**1 column with datatype as 'float'**"
   ]
  },
  {
   "cell_type": "code",
   "execution_count": 10,
   "metadata": {
    "colab": {
     "base_uri": "https://localhost:8080/",
     "height": 306
    },
    "id": "6GafkaKj7sZZ",
    "outputId": "79276439-e696-4415-d53e-6ad086b0a6b3"
   },
   "outputs": [
    {
     "data": {
      "text/html": [
       "<div>\n",
       "<style scoped>\n",
       "    .dataframe tbody tr th:only-of-type {\n",
       "        vertical-align: middle;\n",
       "    }\n",
       "\n",
       "    .dataframe tbody tr th {\n",
       "        vertical-align: top;\n",
       "    }\n",
       "\n",
       "    .dataframe thead th {\n",
       "        text-align: right;\n",
       "    }\n",
       "</style>\n",
       "<table border=\"1\" class=\"dataframe\">\n",
       "  <thead>\n",
       "    <tr style=\"text-align: right;\">\n",
       "      <th></th>\n",
       "      <th>customerID</th>\n",
       "      <th>gender</th>\n",
       "      <th>SeniorCitizen</th>\n",
       "      <th>Partner</th>\n",
       "      <th>Dependents</th>\n",
       "      <th>tenure</th>\n",
       "      <th>PhoneService</th>\n",
       "      <th>MultipleLines</th>\n",
       "      <th>InternetService</th>\n",
       "      <th>OnlineSecurity</th>\n",
       "      <th>...</th>\n",
       "      <th>DeviceProtection</th>\n",
       "      <th>TechSupport</th>\n",
       "      <th>StreamingTV</th>\n",
       "      <th>StreamingMovies</th>\n",
       "      <th>Contract</th>\n",
       "      <th>PaperlessBilling</th>\n",
       "      <th>PaymentMethod</th>\n",
       "      <th>MonthlyCharges</th>\n",
       "      <th>TotalCharges</th>\n",
       "      <th>Churn</th>\n",
       "    </tr>\n",
       "  </thead>\n",
       "  <tbody>\n",
       "    <tr>\n",
       "      <th>6663</th>\n",
       "      <td>0674-EYYZV</td>\n",
       "      <td>Female</td>\n",
       "      <td>0</td>\n",
       "      <td>No</td>\n",
       "      <td>No</td>\n",
       "      <td>1</td>\n",
       "      <td>Yes</td>\n",
       "      <td>No</td>\n",
       "      <td>DSL</td>\n",
       "      <td>No</td>\n",
       "      <td>...</td>\n",
       "      <td>No</td>\n",
       "      <td>No</td>\n",
       "      <td>Yes</td>\n",
       "      <td>No</td>\n",
       "      <td>Month-to-month</td>\n",
       "      <td>Yes</td>\n",
       "      <td>Electronic check</td>\n",
       "      <td>54.65</td>\n",
       "      <td>54.65</td>\n",
       "      <td>No</td>\n",
       "    </tr>\n",
       "    <tr>\n",
       "      <th>4850</th>\n",
       "      <td>0931-MHTEM</td>\n",
       "      <td>Female</td>\n",
       "      <td>0</td>\n",
       "      <td>No</td>\n",
       "      <td>No</td>\n",
       "      <td>54</td>\n",
       "      <td>Yes</td>\n",
       "      <td>No</td>\n",
       "      <td>Fiber optic</td>\n",
       "      <td>Yes</td>\n",
       "      <td>...</td>\n",
       "      <td>No</td>\n",
       "      <td>No</td>\n",
       "      <td>Yes</td>\n",
       "      <td>Yes</td>\n",
       "      <td>One year</td>\n",
       "      <td>Yes</td>\n",
       "      <td>Credit card (automatic)</td>\n",
       "      <td>100.05</td>\n",
       "      <td>5299.65</td>\n",
       "      <td>No</td>\n",
       "    </tr>\n",
       "    <tr>\n",
       "      <th>4045</th>\n",
       "      <td>3677-TNKIO</td>\n",
       "      <td>Female</td>\n",
       "      <td>0</td>\n",
       "      <td>No</td>\n",
       "      <td>No</td>\n",
       "      <td>14</td>\n",
       "      <td>Yes</td>\n",
       "      <td>No</td>\n",
       "      <td>Fiber optic</td>\n",
       "      <td>No</td>\n",
       "      <td>...</td>\n",
       "      <td>No</td>\n",
       "      <td>No</td>\n",
       "      <td>No</td>\n",
       "      <td>No</td>\n",
       "      <td>Month-to-month</td>\n",
       "      <td>Yes</td>\n",
       "      <td>Credit card (automatic)</td>\n",
       "      <td>71.00</td>\n",
       "      <td>914</td>\n",
       "      <td>Yes</td>\n",
       "    </tr>\n",
       "    <tr>\n",
       "      <th>6833</th>\n",
       "      <td>9129-UXERG</td>\n",
       "      <td>Female</td>\n",
       "      <td>1</td>\n",
       "      <td>No</td>\n",
       "      <td>No</td>\n",
       "      <td>18</td>\n",
       "      <td>Yes</td>\n",
       "      <td>Yes</td>\n",
       "      <td>Fiber optic</td>\n",
       "      <td>No</td>\n",
       "      <td>...</td>\n",
       "      <td>No</td>\n",
       "      <td>Yes</td>\n",
       "      <td>Yes</td>\n",
       "      <td>Yes</td>\n",
       "      <td>Month-to-month</td>\n",
       "      <td>Yes</td>\n",
       "      <td>Credit card (automatic)</td>\n",
       "      <td>103.60</td>\n",
       "      <td>1806.35</td>\n",
       "      <td>No</td>\n",
       "    </tr>\n",
       "    <tr>\n",
       "      <th>1853</th>\n",
       "      <td>1612-EOHDH</td>\n",
       "      <td>Female</td>\n",
       "      <td>0</td>\n",
       "      <td>No</td>\n",
       "      <td>No</td>\n",
       "      <td>1</td>\n",
       "      <td>Yes</td>\n",
       "      <td>No</td>\n",
       "      <td>DSL</td>\n",
       "      <td>No</td>\n",
       "      <td>...</td>\n",
       "      <td>No</td>\n",
       "      <td>No</td>\n",
       "      <td>No</td>\n",
       "      <td>No</td>\n",
       "      <td>Month-to-month</td>\n",
       "      <td>No</td>\n",
       "      <td>Electronic check</td>\n",
       "      <td>45.15</td>\n",
       "      <td>45.15</td>\n",
       "      <td>Yes</td>\n",
       "    </tr>\n",
       "  </tbody>\n",
       "</table>\n",
       "<p>5 rows × 21 columns</p>\n",
       "</div>"
      ],
      "text/plain": [
       "      customerID  gender  SeniorCitizen Partner Dependents  tenure  \\\n",
       "6663  0674-EYYZV  Female              0      No         No       1   \n",
       "4850  0931-MHTEM  Female              0      No         No      54   \n",
       "4045  3677-TNKIO  Female              0      No         No      14   \n",
       "6833  9129-UXERG  Female              1      No         No      18   \n",
       "1853  1612-EOHDH  Female              0      No         No       1   \n",
       "\n",
       "     PhoneService MultipleLines InternetService OnlineSecurity  ...  \\\n",
       "6663          Yes            No             DSL             No  ...   \n",
       "4850          Yes            No     Fiber optic            Yes  ...   \n",
       "4045          Yes            No     Fiber optic             No  ...   \n",
       "6833          Yes           Yes     Fiber optic             No  ...   \n",
       "1853          Yes            No             DSL             No  ...   \n",
       "\n",
       "     DeviceProtection TechSupport StreamingTV StreamingMovies        Contract  \\\n",
       "6663               No          No         Yes              No  Month-to-month   \n",
       "4850               No          No         Yes             Yes        One year   \n",
       "4045               No          No          No              No  Month-to-month   \n",
       "6833               No         Yes         Yes             Yes  Month-to-month   \n",
       "1853               No          No          No              No  Month-to-month   \n",
       "\n",
       "     PaperlessBilling            PaymentMethod MonthlyCharges  TotalCharges  \\\n",
       "6663              Yes         Electronic check          54.65         54.65   \n",
       "4850              Yes  Credit card (automatic)         100.05       5299.65   \n",
       "4045              Yes  Credit card (automatic)          71.00           914   \n",
       "6833              Yes  Credit card (automatic)         103.60       1806.35   \n",
       "1853               No         Electronic check          45.15         45.15   \n",
       "\n",
       "     Churn  \n",
       "6663    No  \n",
       "4850    No  \n",
       "4045   Yes  \n",
       "6833    No  \n",
       "1853   Yes  \n",
       "\n",
       "[5 rows x 21 columns]"
      ]
     },
     "execution_count": 10,
     "metadata": {},
     "output_type": "execute_result"
    }
   ],
   "source": [
    "# Check attributes of the independent variables AND Checking basic details of the data\n",
    "TeleChurn.sample(5)"
   ]
  },
  {
   "cell_type": "markdown",
   "metadata": {
    "id": "wtkM1_Mgoq6d"
   },
   "source": [
    "**The column TotalCharges contains numeric values but it has object data type. Therefore changing datatype of this column to float.**"
   ]
  },
  {
   "cell_type": "code",
   "execution_count": 11,
   "metadata": {
    "id": "bZF8VWJ-o-Xs"
   },
   "outputs": [],
   "source": [
    "TeleChurn['TotalCharges']=pd.to_numeric(TeleChurn['TotalCharges'],errors = 'coerce')"
   ]
  },
  {
   "cell_type": "code",
   "execution_count": 12,
   "metadata": {
    "colab": {
     "base_uri": "https://localhost:8080/"
    },
    "id": "7xvaO6o4rV0n",
    "outputId": "7ea94d77-3c05-473e-fc1a-7fcb00cd7956"
   },
   "outputs": [
    {
     "data": {
      "text/plain": [
       "dtype('float64')"
      ]
     },
     "execution_count": 12,
     "metadata": {},
     "output_type": "execute_result"
    }
   ],
   "source": [
    "TeleChurn['TotalCharges'].dtype"
   ]
  },
  {
   "cell_type": "code",
   "execution_count": 13,
   "metadata": {
    "colab": {
     "base_uri": "https://localhost:8080/"
    },
    "id": "wkdBEnBRFyOL",
    "outputId": "ac30ef28-1cc6-46b7-bb53-66c932ef1983"
   },
   "outputs": [
    {
     "data": {
      "text/plain": [
       "customerID           0\n",
       "gender               0\n",
       "SeniorCitizen        0\n",
       "Partner              0\n",
       "Dependents           0\n",
       "tenure               0\n",
       "PhoneService         0\n",
       "MultipleLines        0\n",
       "InternetService      0\n",
       "OnlineSecurity       0\n",
       "OnlineBackup         0\n",
       "DeviceProtection     0\n",
       "TechSupport          0\n",
       "StreamingTV          0\n",
       "StreamingMovies      0\n",
       "Contract             0\n",
       "PaperlessBilling     0\n",
       "PaymentMethod        0\n",
       "MonthlyCharges       0\n",
       "TotalCharges        11\n",
       "Churn                0\n",
       "dtype: int64"
      ]
     },
     "execution_count": 13,
     "metadata": {},
     "output_type": "execute_result"
    }
   ],
   "source": [
    "#Check if there are any null values in the dataset\n",
    "TeleChurn.isnull().sum()"
   ]
  },
  {
   "cell_type": "markdown",
   "metadata": {
    "id": "5gSU0kLQF6uc"
   },
   "source": [
    "**There are 11 Null values in the 'TotalCharges' feature, replacing it by median value.**"
   ]
  },
  {
   "cell_type": "code",
   "execution_count": 14,
   "metadata": {
    "id": "KErI55pNLtd1"
   },
   "outputs": [],
   "source": [
    "TeleChurn['TotalCharges']=TeleChurn['TotalCharges'].fillna(TeleChurn['TotalCharges'].median())"
   ]
  },
  {
   "cell_type": "markdown",
   "metadata": {
    "id": "WnS0DMmFfky8"
   },
   "source": [
    "**Describe function generates descriptive statistics that summarize the central tendency, dispersion and shape of a dataset’s distribution, excluding NaN values.** \n",
    "\n",
    "This method tells us a lot of things about a dataset. One important thing is that the describe() method deals only with numeric values. It doesn't work with any categorical values. So if there are any categorical values in a column the describe() method will ignore it and display summary for the other columns"
   ]
  },
  {
   "cell_type": "code",
   "execution_count": 15,
   "metadata": {
    "colab": {
     "base_uri": "https://localhost:8080/",
     "height": 294
    },
    "id": "OaIpsrB3eYWe",
    "outputId": "a5adc2f2-1cf3-4b10-d881-de0d6ceb0355"
   },
   "outputs": [
    {
     "data": {
      "text/html": [
       "<div>\n",
       "<style scoped>\n",
       "    .dataframe tbody tr th:only-of-type {\n",
       "        vertical-align: middle;\n",
       "    }\n",
       "\n",
       "    .dataframe tbody tr th {\n",
       "        vertical-align: top;\n",
       "    }\n",
       "\n",
       "    .dataframe thead th {\n",
       "        text-align: right;\n",
       "    }\n",
       "</style>\n",
       "<table border=\"1\" class=\"dataframe\">\n",
       "  <thead>\n",
       "    <tr style=\"text-align: right;\">\n",
       "      <th></th>\n",
       "      <th>SeniorCitizen</th>\n",
       "      <th>tenure</th>\n",
       "      <th>MonthlyCharges</th>\n",
       "      <th>TotalCharges</th>\n",
       "    </tr>\n",
       "  </thead>\n",
       "  <tbody>\n",
       "    <tr>\n",
       "      <th>count</th>\n",
       "      <td>7043.000000</td>\n",
       "      <td>7043.000000</td>\n",
       "      <td>7043.000000</td>\n",
       "      <td>7043.000000</td>\n",
       "    </tr>\n",
       "    <tr>\n",
       "      <th>mean</th>\n",
       "      <td>0.162147</td>\n",
       "      <td>32.371149</td>\n",
       "      <td>64.761692</td>\n",
       "      <td>2281.916928</td>\n",
       "    </tr>\n",
       "    <tr>\n",
       "      <th>std</th>\n",
       "      <td>0.368612</td>\n",
       "      <td>24.559481</td>\n",
       "      <td>30.090047</td>\n",
       "      <td>2265.270398</td>\n",
       "    </tr>\n",
       "    <tr>\n",
       "      <th>min</th>\n",
       "      <td>0.000000</td>\n",
       "      <td>0.000000</td>\n",
       "      <td>18.250000</td>\n",
       "      <td>18.800000</td>\n",
       "    </tr>\n",
       "    <tr>\n",
       "      <th>25%</th>\n",
       "      <td>0.000000</td>\n",
       "      <td>9.000000</td>\n",
       "      <td>35.500000</td>\n",
       "      <td>402.225000</td>\n",
       "    </tr>\n",
       "    <tr>\n",
       "      <th>50%</th>\n",
       "      <td>0.000000</td>\n",
       "      <td>29.000000</td>\n",
       "      <td>70.350000</td>\n",
       "      <td>1397.475000</td>\n",
       "    </tr>\n",
       "    <tr>\n",
       "      <th>75%</th>\n",
       "      <td>0.000000</td>\n",
       "      <td>55.000000</td>\n",
       "      <td>89.850000</td>\n",
       "      <td>3786.600000</td>\n",
       "    </tr>\n",
       "    <tr>\n",
       "      <th>max</th>\n",
       "      <td>1.000000</td>\n",
       "      <td>72.000000</td>\n",
       "      <td>118.750000</td>\n",
       "      <td>8684.800000</td>\n",
       "    </tr>\n",
       "  </tbody>\n",
       "</table>\n",
       "</div>"
      ],
      "text/plain": [
       "       SeniorCitizen       tenure  MonthlyCharges  TotalCharges\n",
       "count    7043.000000  7043.000000     7043.000000   7043.000000\n",
       "mean        0.162147    32.371149       64.761692   2281.916928\n",
       "std         0.368612    24.559481       30.090047   2265.270398\n",
       "min         0.000000     0.000000       18.250000     18.800000\n",
       "25%         0.000000     9.000000       35.500000    402.225000\n",
       "50%         0.000000    29.000000       70.350000   1397.475000\n",
       "75%         0.000000    55.000000       89.850000   3786.600000\n",
       "max         1.000000    72.000000      118.750000   8684.800000"
      ]
     },
     "execution_count": 15,
     "metadata": {},
     "output_type": "execute_result"
    }
   ],
   "source": [
    "TeleChurn.describe()"
   ]
  },
  {
   "cell_type": "markdown",
   "metadata": {
    "id": "7KKq7VwefGbc"
   },
   "source": [
    "It is observed that in TotalCharges 75 % of values are less than 3786 but maximum value is 86489 so there might be a right skewness."
   ]
  },
  {
   "cell_type": "code",
   "execution_count": 16,
   "metadata": {
    "colab": {
     "base_uri": "https://localhost:8080/"
    },
    "id": "JCtLKBCa_bP_",
    "outputId": "704959f4-01b9-4344-d0a4-5c8a5c7357f6"
   },
   "outputs": [
    {
     "name": "stdout",
     "output_type": "stream",
     "text": [
      "customerID\n",
      "['7590-VHVEG' '5575-GNVDE' '3668-QPYBK' ... '4801-JZAZL' '8361-LTMKD'\n",
      " '3186-AJIEK']\n",
      "\n",
      "\n",
      "gender\n",
      "['Female' 'Male']\n",
      "\n",
      "\n",
      "SeniorCitizen\n",
      "[0 1]\n",
      "\n",
      "\n",
      "Partner\n",
      "['Yes' 'No']\n",
      "\n",
      "\n",
      "Dependents\n",
      "['No' 'Yes']\n",
      "\n",
      "\n",
      "tenure\n",
      "[ 1 34  2 45  8 22 10 28 62 13 16 58 49 25 69 52 71 21 12 30 47 72 17 27\n",
      "  5 46 11 70 63 43 15 60 18 66  9  3 31 50 64 56  7 42 35 48 29 65 38 68\n",
      " 32 55 37 36 41  6  4 33 67 23 57 61 14 20 53 40 59 24 44 19 54 51 26  0\n",
      " 39]\n",
      "\n",
      "\n",
      "PhoneService\n",
      "['No' 'Yes']\n",
      "\n",
      "\n",
      "MultipleLines\n",
      "['No phone service' 'No' 'Yes']\n",
      "\n",
      "\n",
      "InternetService\n",
      "['DSL' 'Fiber optic' 'No']\n",
      "\n",
      "\n",
      "OnlineSecurity\n",
      "['No' 'Yes' 'No internet service']\n",
      "\n",
      "\n",
      "OnlineBackup\n",
      "['Yes' 'No' 'No internet service']\n",
      "\n",
      "\n",
      "DeviceProtection\n",
      "['No' 'Yes' 'No internet service']\n",
      "\n",
      "\n",
      "TechSupport\n",
      "['No' 'Yes' 'No internet service']\n",
      "\n",
      "\n",
      "StreamingTV\n",
      "['No' 'Yes' 'No internet service']\n",
      "\n",
      "\n",
      "StreamingMovies\n",
      "['No' 'Yes' 'No internet service']\n",
      "\n",
      "\n",
      "Contract\n",
      "['Month-to-month' 'One year' 'Two year']\n",
      "\n",
      "\n",
      "PaperlessBilling\n",
      "['Yes' 'No']\n",
      "\n",
      "\n",
      "PaymentMethod\n",
      "['Electronic check' 'Mailed check' 'Bank transfer (automatic)'\n",
      " 'Credit card (automatic)']\n",
      "\n",
      "\n",
      "MonthlyCharges\n",
      "[29.85 56.95 53.85 ... 63.1  44.2  78.7 ]\n",
      "\n",
      "\n",
      "TotalCharges\n",
      "[  29.85 1889.5   108.15 ...  346.45  306.6  6844.5 ]\n",
      "\n",
      "\n",
      "Churn\n",
      "['No' 'Yes']\n",
      "\n",
      "\n"
     ]
    }
   ],
   "source": [
    "# Checking unique values in each column of the dataset.\n",
    "for cols in TeleChurn.columns:\n",
    "  print(cols)\n",
    "  print(TeleChurn[cols].unique())\n",
    "  print(\"\\n\")"
   ]
  },
  {
   "cell_type": "markdown",
   "metadata": {
    "id": "XgOR1ZFz67_R"
   },
   "source": [
    "## **3. Data analysis & visualisation:** [ Score: 10 point ]\n",
    "\n",
    "• Perform detailed statistical analysis on the data.\n",
    "\n",
    "• Perform a detailed univariate, bivariate and multivariate analysis with appropriate detailed comments after each analysis."
   ]
  },
  {
   "cell_type": "markdown",
   "metadata": {
    "id": "5BQlpziC6oaE"
   },
   "source": [
    "## **Univariate Analysis**"
   ]
  },
  {
   "cell_type": "markdown",
   "metadata": {
    "id": "6tmSbdI0Or5Z"
   },
   "source": [
    "**Let's explore the categorical variable which has binary classes.**"
   ]
  },
  {
   "cell_type": "code",
   "execution_count": 17,
   "metadata": {
    "id": "lm3LHCzVNIXC"
   },
   "outputs": [],
   "source": [
    "columns = TeleChurn.columns\n",
    "binary_cols = []\n",
    "for col in columns:\n",
    "    if TeleChurn[col].value_counts().shape[0] == 2:\n",
    "        binary_cols.append(col)"
   ]
  },
  {
   "cell_type": "code",
   "execution_count": 18,
   "metadata": {
    "colab": {
     "base_uri": "https://localhost:8080/"
    },
    "id": "16OaqbG-P6Pd",
    "outputId": "e143fd49-03b3-4b64-9219-5384e771de07"
   },
   "outputs": [
    {
     "name": "stdout",
     "output_type": "stream",
     "text": [
      "The columns in the dataset which has binary classes are: \n",
      " ['gender', 'SeniorCitizen', 'Partner', 'Dependents', 'PhoneService', 'PaperlessBilling', 'Churn']\n"
     ]
    }
   ],
   "source": [
    "print(\"The columns in the dataset which has binary classes are: \\n\", binary_cols)"
   ]
  },
  {
   "cell_type": "markdown",
   "metadata": {
    "id": "7SFn7aH6OGo0"
   },
   "source": [
    "**Let’s check the class distribution of binary features.**"
   ]
  },
  {
   "cell_type": "code",
   "execution_count": 19,
   "metadata": {
    "colab": {
     "base_uri": "https://localhost:8080/",
     "height": 1000
    },
    "id": "g86Q8uRzeuxM",
    "outputId": "84aba3cc-949e-4600-8cb3-f9a71433892d"
   },
   "outputs": [
    {
     "data": {
      "image/png": "[encoded data removed]",
      "text/plain": [
       "<Figure size 720x1440 with 7 Axes>"
      ]
     },
     "metadata": {
      "needs_background": "light"
     },
     "output_type": "display_data"
    }
   ],
   "source": [
    "  a=4\n",
    "  b=2\n",
    "  c=1\n",
    "  fig = plt.figure(figsize=(10,20))\n",
    "\n",
    "  for i, col in enumerate(binary_cols):    \n",
    "      plt.subplot(a, b, c)\n",
    "      plt.title(col +' count plot') \n",
    "      sns.countplot(x =col, data =TeleChurn)\n",
    "      c = c + 1"
   ]
  },
  {
   "cell_type": "markdown",
   "metadata": {
    "id": "amY8xfCE6Hvg"
   },
   "source": [
    "Insights from above count plot.\n",
    "1.   The Features **\"gender\" and \"Partner\" are balanced** while it is observed that there is large **imbalance in the features \"Senior Citizens\" and \"Phone service\".**\n",
    "2.   There are less customers with No phone service and also less number of senior citizen customers.\n"
   ]
  },
  {
   "cell_type": "markdown",
   "metadata": {
    "id": "bBgKkzzkohUc"
   },
   "source": [
    "**Let's check the distribution of continuous variables**"
   ]
  },
  {
   "cell_type": "code",
   "execution_count": 20,
   "metadata": {
    "id": "112h-kPCpB_5"
   },
   "outputs": [],
   "source": [
    "Numeric_df = TeleChurn.select_dtypes(include=['int64','float64']).copy()"
   ]
  },
  {
   "cell_type": "code",
   "execution_count": 21,
   "metadata": {
    "colab": {
     "base_uri": "https://localhost:8080/",
     "height": 415
    },
    "id": "ZRWhLkowpo4_",
    "outputId": "4a9786bc-f69f-4bb2-d5c6-d0d625c183d9"
   },
   "outputs": [
    {
     "data": {
      "text/html": [
       "<div>\n",
       "<style scoped>\n",
       "    .dataframe tbody tr th:only-of-type {\n",
       "        vertical-align: middle;\n",
       "    }\n",
       "\n",
       "    .dataframe tbody tr th {\n",
       "        vertical-align: top;\n",
       "    }\n",
       "\n",
       "    .dataframe thead th {\n",
       "        text-align: right;\n",
       "    }\n",
       "</style>\n",
       "<table border=\"1\" class=\"dataframe\">\n",
       "  <thead>\n",
       "    <tr style=\"text-align: right;\">\n",
       "      <th></th>\n",
       "      <th>SeniorCitizen</th>\n",
       "      <th>tenure</th>\n",
       "      <th>MonthlyCharges</th>\n",
       "      <th>TotalCharges</th>\n",
       "    </tr>\n",
       "  </thead>\n",
       "  <tbody>\n",
       "    <tr>\n",
       "      <th>0</th>\n",
       "      <td>0</td>\n",
       "      <td>1</td>\n",
       "      <td>29.85</td>\n",
       "      <td>29.85</td>\n",
       "    </tr>\n",
       "    <tr>\n",
       "      <th>1</th>\n",
       "      <td>0</td>\n",
       "      <td>34</td>\n",
       "      <td>56.95</td>\n",
       "      <td>1889.50</td>\n",
       "    </tr>\n",
       "    <tr>\n",
       "      <th>2</th>\n",
       "      <td>0</td>\n",
       "      <td>2</td>\n",
       "      <td>53.85</td>\n",
       "      <td>108.15</td>\n",
       "    </tr>\n",
       "    <tr>\n",
       "      <th>3</th>\n",
       "      <td>0</td>\n",
       "      <td>45</td>\n",
       "      <td>42.30</td>\n",
       "      <td>1840.75</td>\n",
       "    </tr>\n",
       "    <tr>\n",
       "      <th>4</th>\n",
       "      <td>0</td>\n",
       "      <td>2</td>\n",
       "      <td>70.70</td>\n",
       "      <td>151.65</td>\n",
       "    </tr>\n",
       "    <tr>\n",
       "      <th>...</th>\n",
       "      <td>...</td>\n",
       "      <td>...</td>\n",
       "      <td>...</td>\n",
       "      <td>...</td>\n",
       "    </tr>\n",
       "    <tr>\n",
       "      <th>7038</th>\n",
       "      <td>0</td>\n",
       "      <td>24</td>\n",
       "      <td>84.80</td>\n",
       "      <td>1990.50</td>\n",
       "    </tr>\n",
       "    <tr>\n",
       "      <th>7039</th>\n",
       "      <td>0</td>\n",
       "      <td>72</td>\n",
       "      <td>103.20</td>\n",
       "      <td>7362.90</td>\n",
       "    </tr>\n",
       "    <tr>\n",
       "      <th>7040</th>\n",
       "      <td>0</td>\n",
       "      <td>11</td>\n",
       "      <td>29.60</td>\n",
       "      <td>346.45</td>\n",
       "    </tr>\n",
       "    <tr>\n",
       "      <th>7041</th>\n",
       "      <td>1</td>\n",
       "      <td>4</td>\n",
       "      <td>74.40</td>\n",
       "      <td>306.60</td>\n",
       "    </tr>\n",
       "    <tr>\n",
       "      <th>7042</th>\n",
       "      <td>0</td>\n",
       "      <td>66</td>\n",
       "      <td>105.65</td>\n",
       "      <td>6844.50</td>\n",
       "    </tr>\n",
       "  </tbody>\n",
       "</table>\n",
       "<p>7043 rows × 4 columns</p>\n",
       "</div>"
      ],
      "text/plain": [
       "      SeniorCitizen  tenure  MonthlyCharges  TotalCharges\n",
       "0                 0       1           29.85         29.85\n",
       "1                 0      34           56.95       1889.50\n",
       "2                 0       2           53.85        108.15\n",
       "3                 0      45           42.30       1840.75\n",
       "4                 0       2           70.70        151.65\n",
       "...             ...     ...             ...           ...\n",
       "7038              0      24           84.80       1990.50\n",
       "7039              0      72          103.20       7362.90\n",
       "7040              0      11           29.60        346.45\n",
       "7041              1       4           74.40        306.60\n",
       "7042              0      66          105.65       6844.50\n",
       "\n",
       "[7043 rows x 4 columns]"
      ]
     },
     "execution_count": 21,
     "metadata": {},
     "output_type": "execute_result"
    }
   ],
   "source": [
    "Numeric_df"
   ]
  },
  {
   "cell_type": "code",
   "execution_count": 22,
   "metadata": {
    "colab": {
     "base_uri": "https://localhost:8080/",
     "height": 756
    },
    "id": "QSCzahIiohxg",
    "outputId": "9a95a46f-92bb-4698-b421-236ecd34dcee"
   },
   "outputs": [
    {
     "data": {
      "image/png": "[encoded data removed]",
      "text/plain": [
       "<Figure size 1080x432 with 3 Axes>"
      ]
     },
     "metadata": {
      "needs_background": "light"
     },
     "output_type": "display_data"
    },
    {
     "data": {
      "image/png": "[encoded data removed]",
      "text/plain": [
       "<Figure size 1008x432 with 3 Axes>"
      ]
     },
     "metadata": {
      "needs_background": "light"
     },
     "output_type": "display_data"
    }
   ],
   "source": [
    "fig = plt.figure(figsize = (15,6))\n",
    "\n",
    "ra1 = fig.add_subplot(1,3,1) \n",
    "ra2 = fig.add_subplot(1,3,2)\n",
    "ra3 = fig.add_subplot(1,3,3)\n",
    "\n",
    "ra1.hist(Numeric_df['tenure'],color = 'blue')\n",
    "ra1.set_title('The Distribution of tenure')\n",
    "\n",
    "ra2.hist(Numeric_df['MonthlyCharges'],color = 'green')\n",
    "ra2.set_title('The Distribution of Monthly Charges')\n",
    "\n",
    "ra3.hist(Numeric_df['TotalCharges'],color = 'purple')\n",
    "ra3.set_title('The Distribution of Total Charges')\n",
    "\n",
    "plt.figure(figsize=(14,6))\n",
    "# subplot 1\n",
    "plt.subplot(1, 3, 1)\n",
    "plt.title('The Distribution of tenure')\n",
    "sns.boxplot(Numeric_df['tenure'],orient='vertical',color= 'blue')\n",
    "\n",
    "# subplot 2\n",
    "plt.subplot(1, 3, 2)\n",
    "plt.title('The Distribution of Monthly Charges')\n",
    "sns.boxplot(Numeric_df['MonthlyCharges'],color='green')\n",
    "\n",
    "plt.subplot(1, 3, 3)\n",
    "plt.title('The Distribution of Total Charges')\n",
    "sns.boxplot(Numeric_df['TotalCharges'],orient='vertical',color= 'purple')\n",
    "\n",
    "plt.tight_layout() \n",
    "plt.show()\n"
   ]
  },
  {
   "cell_type": "markdown",
   "metadata": {
    "id": "yCNWqT3uRajh"
   },
   "source": [
    "The Distribution of **'Tenure'** is **right skewed** and the plot is **bimodal**, showing maximum tenure opted is in the **range 0 to 5 and 65 to 70**.\n",
    "\n",
    "The Distribution of **'Monthly Charges'** is **left skewed** and **maximum** monthly charge is in the **range 20 to 30**.\n",
    "\n",
    "The Distribution of **'TotalCharges'** is **right skewed** and **maximum** monthly charge is in the **range 0 to 1000**."
   ]
  },
  {
   "cell_type": "code",
   "execution_count": 23,
   "metadata": {
    "colab": {
     "base_uri": "https://localhost:8080/",
     "height": 403
    },
    "id": "6sfJBDxqqvRx",
    "outputId": "b2af1d4b-d9d8-4405-fbd3-d3eced700bce"
   },
   "outputs": [
    {
     "data": {
      "text/plain": [
       "<AxesSubplot:title={'center':'Bar graph -SeniorCitizen '}>"
      ]
     },
     "execution_count": 23,
     "metadata": {},
     "output_type": "execute_result"
    },
    {
     "data": {
      "image/png": "[encoded data removed]",
      "text/plain": [
       "<Figure size 864x432 with 2 Axes>"
      ]
     },
     "metadata": {
      "needs_background": "light"
     },
     "output_type": "display_data"
    }
   ],
   "source": [
    "fig = plt.figure(figsize = (12,6))\n",
    "\n",
    "plt.subplot(1, 2, 1)\n",
    "plt.title('Pie plot - SeniorCitizen ')\n",
    "Numeric_df['SeniorCitizen'].value_counts().plot.pie(autopct='%1.1f%%')\n",
    "\n",
    "plt.subplot(1, 2, 2)\n",
    "plt.title('Bar graph -SeniorCitizen ')\n",
    "Numeric_df['SeniorCitizen'].value_counts().plot(color = ['blue','orange'],kind='bar')"
   ]
  },
  {
   "cell_type": "markdown",
   "metadata": {
    "id": "5rn1k1rtTJQq"
   },
   "source": [
    "There are less customers who are Senior Citizens members."
   ]
  },
  {
   "cell_type": "markdown",
   "metadata": {
    "id": "Y6RSQmJc7yEG"
   },
   "source": [
    "### **Bivariate Analysis**"
   ]
  },
  {
   "cell_type": "markdown",
   "metadata": {
    "id": "8qC0Cp8nf6b_"
   },
   "source": [
    "**Let's observe the number of Male and Female who Churn (Relation between gender and churn rate)**\n",
    "\n",
    "Similarly let's check the realtion between other categorical variables and churn rate."
   ]
  },
  {
   "cell_type": "code",
   "execution_count": 24,
   "metadata": {
    "colab": {
     "base_uri": "https://localhost:8080/",
     "height": 644
    },
    "id": "_liSgZ10f4ge",
    "outputId": "38762cf6-68b9-4098-db47-6773685a98ae"
   },
   "outputs": [
    {
     "data": {
      "text/plain": [
       "<AxesSubplot:title={'center':'Relation between Dependents and churn rate'}, xlabel='Dependents', ylabel='count'>"
      ]
     },
     "execution_count": 24,
     "metadata": {},
     "output_type": "execute_result"
    },
    {
     "data": {
      "image/png": "[encoded data removed]",
      "text/plain": [
       "<Figure size 864x720 with 4 Axes>"
      ]
     },
     "metadata": {
      "needs_background": "light"
     },
     "output_type": "display_data"
    }
   ],
   "source": [
    "fig = plt.figure(figsize = (12,10))\n",
    "\n",
    "plt.subplot(2, 2, 1)\n",
    "plt.title('Relation between gender and churn rate')\n",
    "\n",
    "sns.set(style=\"whitegrid\", color_codes=True)\n",
    "sns.countplot(x=\"gender\", hue= \"Churn\", data=TeleChurn)\n",
    "\n",
    "plt.subplot(2, 2, 2)\n",
    "plt.title('Relation between SeniorCitizen and churn rate')\n",
    "\n",
    "sns.set(style=\"whitegrid\", color_codes=True)\n",
    "sns.countplot(x=\"SeniorCitizen\", hue= \"Churn\", data=TeleChurn)\n",
    "\n",
    "plt.subplot(2, 2, 3)\n",
    "plt.title('Relation between Partner and churn rate')\n",
    "\n",
    "sns.set(style=\"whitegrid\", color_codes=True)\n",
    "sns.countplot(x=\"Partner\", hue= \"Churn\", data=TeleChurn)\n",
    "\n",
    "plt.subplot(2, 2, 4)\n",
    "plt.title('Relation between Dependents and churn rate')\n",
    "\n",
    "sns.set(style=\"whitegrid\", color_codes=True)\n",
    "sns.countplot(x=\"Dependents\", hue= \"Churn\", data=TeleChurn)"
   ]
  },
  {
   "cell_type": "markdown",
   "metadata": {
    "id": "uP28Ec_cVZev"
   },
   "source": [
    "From the above bar graphs **it is observed that there is no realtion between the Churn rate and independent features** such as 'gender', 'Partner', 'Dependents' and 'Senior Citizens'."
   ]
  },
  {
   "cell_type": "markdown",
   "metadata": {
    "id": "DXqXp-VtFekj"
   },
   "source": [
    "**Let's observe the Relation between Contract and tenure.**"
   ]
  },
  {
   "cell_type": "code",
   "execution_count": 25,
   "metadata": {
    "colab": {
     "base_uri": "https://localhost:8080/"
    },
    "id": "seh-OR7JELBC",
    "outputId": "204a2663-7efb-44d3-bae5-3fccbfc165eb"
   },
   "outputs": [
    {
     "name": "stdout",
     "output_type": "stream",
     "text": [
      "                   tenure\n",
      "Contract                 \n",
      "Month-to-month  18.036645\n",
      "One year        42.044807\n",
      "Two year        56.735103\n"
     ]
    }
   ],
   "source": [
    "print(TeleChurn[['Contract','tenure']].groupby('Contract').mean())"
   ]
  },
  {
   "cell_type": "markdown",
   "metadata": {
    "id": "hhPsNrhoFrbG"
   },
   "source": [
    "It can be clearly seen that the customers who are in long duration contract has more tenure. **Thus contract and tenure are highly related features.**"
   ]
  },
  {
   "cell_type": "markdown",
   "metadata": {
    "id": "1I3GEsNdTqee"
   },
   "source": [
    "**Let's observe the relation between the customers who has Multiple Lines and their Churn rate.**"
   ]
  },
  {
   "cell_type": "code",
   "execution_count": 26,
   "metadata": {
    "colab": {
     "base_uri": "https://localhost:8080/",
     "height": 172
    },
    "id": "fyNe1GB1jb3-",
    "outputId": "e844c85a-6256-4f37-8b6c-ac148cb1ae4a"
   },
   "outputs": [
    {
     "data": {
      "text/html": [
       "<div>\n",
       "<style scoped>\n",
       "    .dataframe tbody tr th:only-of-type {\n",
       "        vertical-align: middle;\n",
       "    }\n",
       "\n",
       "    .dataframe tbody tr th {\n",
       "        vertical-align: top;\n",
       "    }\n",
       "\n",
       "    .dataframe thead th {\n",
       "        text-align: right;\n",
       "    }\n",
       "</style>\n",
       "<table border=\"1\" class=\"dataframe\">\n",
       "  <thead>\n",
       "    <tr style=\"text-align: right;\">\n",
       "      <th>Churn</th>\n",
       "      <th>No</th>\n",
       "      <th>Yes</th>\n",
       "    </tr>\n",
       "    <tr>\n",
       "      <th>MultipleLines</th>\n",
       "      <th></th>\n",
       "      <th></th>\n",
       "    </tr>\n",
       "  </thead>\n",
       "  <tbody>\n",
       "    <tr>\n",
       "      <th>No</th>\n",
       "      <td>2541</td>\n",
       "      <td>849</td>\n",
       "    </tr>\n",
       "    <tr>\n",
       "      <th>No phone service</th>\n",
       "      <td>512</td>\n",
       "      <td>170</td>\n",
       "    </tr>\n",
       "    <tr>\n",
       "      <th>Yes</th>\n",
       "      <td>2121</td>\n",
       "      <td>850</td>\n",
       "    </tr>\n",
       "  </tbody>\n",
       "</table>\n",
       "</div>"
      ],
      "text/plain": [
       "Churn               No  Yes\n",
       "MultipleLines              \n",
       "No                2541  849\n",
       "No phone service   512  170\n",
       "Yes               2121  850"
      ]
     },
     "execution_count": 26,
     "metadata": {},
     "output_type": "execute_result"
    }
   ],
   "source": [
    "pd.crosstab(TeleChurn['MultipleLines'],TeleChurn['Churn'])"
   ]
  },
  {
   "cell_type": "markdown",
   "metadata": {
    "id": "hFTHa20lT_3y"
   },
   "source": [
    "There are 2541 customers who do not have Multiple Lines and out of which 849 has Churn.\n",
    "\n",
    "There are 2121 customers who has Multiple Lines and out of which 850 has Churn.\n",
    "\n",
    "So a clear conlclusion can't be drawn about the customers who will Churn."
   ]
  },
  {
   "cell_type": "code",
   "execution_count": 27,
   "metadata": {
    "colab": {
     "base_uri": "https://localhost:8080/"
    },
    "id": "PjjM0_NuWVhN",
    "outputId": "b580be1c-65bb-42ca-8968-af73e3283ac8"
   },
   "outputs": [
    {
     "name": "stdout",
     "output_type": "stream",
     "text": [
      "The relation between the customers who has InternetService and their Churn rate.\n",
      "Churn              No   Yes\n",
      "InternetService            \n",
      "DSL              1962   459\n",
      "Fiber optic      1799  1297\n",
      "No               1413   113\n",
      "\n",
      "\n",
      "The relation between the customers who has OnlineSecurity and their Churn rate.\n",
      "Churn                  No   Yes\n",
      "OnlineSecurity                 \n",
      "No                   2037  1461\n",
      "No internet service  1413   113\n",
      "Yes                  1724   295\n",
      "\n",
      "\n",
      "The relation between the customers who has OnlineBackup and their Churn rate.\n",
      "Churn                  No   Yes\n",
      "OnlineBackup                   \n",
      "No                   1855  1233\n",
      "No internet service  1413   113\n",
      "Yes                  1906   523\n",
      "\n",
      "\n",
      "The relation between the customers who has DeviceProtection and their Churn rate.\n",
      "Churn                  No   Yes\n",
      "DeviceProtection               \n",
      "No                   1884  1211\n",
      "No internet service  1413   113\n",
      "Yes                  1877   545\n",
      "\n",
      "\n",
      "The relation between the customers who has TechSupport and their Churn rate.\n",
      "Churn                  No   Yes\n",
      "TechSupport                    \n",
      "No                   2027  1446\n",
      "No internet service  1413   113\n",
      "Yes                  1734   310\n",
      "\n",
      "\n",
      "The relation between the customers who has StreamingTV and their Churn rate.\n",
      "Churn                  No  Yes\n",
      "StreamingTV                   \n",
      "No                   1868  942\n",
      "No internet service  1413  113\n",
      "Yes                  1893  814\n",
      "\n",
      "\n",
      "The relation between the customers who has StreamingMovies and their Churn rate.\n",
      "Churn                  No  Yes\n",
      "StreamingMovies               \n",
      "No                   1847  938\n",
      "No internet service  1413  113\n",
      "Yes                  1914  818\n",
      "\n",
      "\n",
      "The relation between the customers who has Contract and their Churn rate.\n",
      "Churn             No   Yes\n",
      "Contract                  \n",
      "Month-to-month  2220  1655\n",
      "One year        1307   166\n",
      "Two year        1647    48\n",
      "\n",
      "\n",
      "The relation between the customers who has PaperlessBilling and their Churn rate.\n",
      "Churn               No   Yes\n",
      "PaperlessBilling            \n",
      "No                2403   469\n",
      "Yes               2771  1400\n",
      "\n",
      "\n",
      "The relation between the customers who has PaymentMethod and their Churn rate.\n",
      "Churn                        No   Yes\n",
      "PaymentMethod                        \n",
      "Bank transfer (automatic)  1286   258\n",
      "Credit card (automatic)    1290   232\n",
      "Electronic check           1294  1071\n",
      "Mailed check               1304   308\n",
      "\n",
      "\n"
     ]
    }
   ],
   "source": [
    "# Let's create a crosstab for categorical features to observe their impact on churn rate.\n",
    "\n",
    "columns =['InternetService','OnlineSecurity','OnlineBackup','DeviceProtection','TechSupport','StreamingTV','StreamingMovies','Contract','PaperlessBilling','PaymentMethod']\n",
    "for cols in columns:\n",
    "  print('The relation between the customers who has',cols,'and their Churn rate.')\n",
    "  print(pd.crosstab(TeleChurn[cols],TeleChurn['Churn']))\n",
    "  print(\"\\n\")"
   ]
  },
  {
   "cell_type": "markdown",
   "metadata": {
    "id": "ZB7I4PwMivzo"
   },
   "source": [
    "**Findings from Crosstab**\n",
    "\n",
    "*   It is observed that customers who has opted for **fiber optic internet service has more churn rate.**\n",
    "*   Customers who **do not have online security, online backup, Device Protection and Tech support also has high churn rate.**\n",
    "*   **Streaming Tv and Streaming Movies do not impact** the Churn rate\n",
    "*   Those Customers who have **month to month contract churn more.**\n",
    "*  Customers opted for **paperless billing also has high Churn** rate.\n",
    "*   Customers who are paying through **electonic check has high churn.**"
   ]
  },
  {
   "cell_type": "markdown",
   "metadata": {
    "id": "ukNwbjQWlZLc"
   },
   "source": [
    "## **Multivariate Analysis**"
   ]
  },
  {
   "cell_type": "markdown",
   "metadata": {
    "id": "2ck3zu55lfsK"
   },
   "source": [
    "Perform Correlation analysis with Insights."
   ]
  },
  {
   "cell_type": "code",
   "execution_count": 28,
   "metadata": {
    "colab": {
     "base_uri": "https://localhost:8080/",
     "height": 172
    },
    "id": "d-9WpwhDll32",
    "outputId": "1727ea37-7467-4345-9b24-db8d2c2a7a68"
   },
   "outputs": [
    {
     "data": {
      "text/html": [
       "<div>\n",
       "<style scoped>\n",
       "    .dataframe tbody tr th:only-of-type {\n",
       "        vertical-align: middle;\n",
       "    }\n",
       "\n",
       "    .dataframe tbody tr th {\n",
       "        vertical-align: top;\n",
       "    }\n",
       "\n",
       "    .dataframe thead th {\n",
       "        text-align: right;\n",
       "    }\n",
       "</style>\n",
       "<table border=\"1\" class=\"dataframe\">\n",
       "  <thead>\n",
       "    <tr style=\"text-align: right;\">\n",
       "      <th></th>\n",
       "      <th>SeniorCitizen</th>\n",
       "      <th>tenure</th>\n",
       "      <th>MonthlyCharges</th>\n",
       "      <th>TotalCharges</th>\n",
       "    </tr>\n",
       "  </thead>\n",
       "  <tbody>\n",
       "    <tr>\n",
       "      <th>SeniorCitizen</th>\n",
       "      <td>1.000000</td>\n",
       "      <td>0.016567</td>\n",
       "      <td>0.220173</td>\n",
       "      <td>0.102652</td>\n",
       "    </tr>\n",
       "    <tr>\n",
       "      <th>tenure</th>\n",
       "      <td>0.016567</td>\n",
       "      <td>1.000000</td>\n",
       "      <td>0.247900</td>\n",
       "      <td>0.825464</td>\n",
       "    </tr>\n",
       "    <tr>\n",
       "      <th>MonthlyCharges</th>\n",
       "      <td>0.220173</td>\n",
       "      <td>0.247900</td>\n",
       "      <td>1.000000</td>\n",
       "      <td>0.650864</td>\n",
       "    </tr>\n",
       "    <tr>\n",
       "      <th>TotalCharges</th>\n",
       "      <td>0.102652</td>\n",
       "      <td>0.825464</td>\n",
       "      <td>0.650864</td>\n",
       "      <td>1.000000</td>\n",
       "    </tr>\n",
       "  </tbody>\n",
       "</table>\n",
       "</div>"
      ],
      "text/plain": [
       "                SeniorCitizen    tenure  MonthlyCharges  TotalCharges\n",
       "SeniorCitizen        1.000000  0.016567        0.220173      0.102652\n",
       "tenure               0.016567  1.000000        0.247900      0.825464\n",
       "MonthlyCharges       0.220173  0.247900        1.000000      0.650864\n",
       "TotalCharges         0.102652  0.825464        0.650864      1.000000"
      ]
     },
     "execution_count": 28,
     "metadata": {},
     "output_type": "execute_result"
    }
   ],
   "source": [
    "#Observe the association of each independent variable with target variable \n",
    "# and drop variables from feature set having correlation in range -0.1 to 0.1 with target variable.\n",
    "\n",
    "corr = TeleChurn.corr()\n",
    "corr"
   ]
  },
  {
   "cell_type": "markdown",
   "metadata": {
    "id": "ETYa6b7Ll6Fe"
   },
   "source": [
    "**Pearson's Correlation Coefficient:** helps you find out the relationship between two quantities. It gives you the measure of the strength of association between two variables. The value of Pearson's Correlation Coefficient can be between -1 to +1. 1 means that they are highly correlated and 0 means no correlation.\n",
    "\n",
    "**A heat map** is a two-dimensional representation of information with the help of colors. Heat maps can help the user visualize simple or complex information."
   ]
  },
  {
   "cell_type": "code",
   "execution_count": 29,
   "metadata": {
    "colab": {
     "base_uri": "https://localhost:8080/",
     "height": 595
    },
    "id": "wDjmADd_mAha",
    "outputId": "a0590730-d4bd-4a86-dcd2-5da0ec6761df"
   },
   "outputs": [
    {
     "data": {
      "text/plain": [
       "<AxesSubplot:>"
      ]
     },
     "execution_count": 29,
     "metadata": {},
     "output_type": "execute_result"
    },
    {
     "data": {
      "image/png": "[encoded data removed]",
      "text/plain": [
       "<Figure size 720x720 with 2 Axes>"
      ]
     },
     "metadata": {},
     "output_type": "display_data"
    }
   ],
   "source": [
    "# Plot the correlation between each feature using seaborn heatmap function.\n",
    "colormap = plt.cm.YlGnBu\n",
    "#colormap = plt.cm.viridis\n",
    "plt.figure(figsize=(10,10))\n",
    "sns.heatmap(corr,square=True, cmap=colormap, linecolor='white',linewidths=0.2, annot=True)"
   ]
  },
  {
   "cell_type": "markdown",
   "metadata": {
    "id": "0-vVzPiR7wcv"
   },
   "source": [
    "*   The features **\"Tenure\" and \"TotalCharges\" has high correlation with correlation factor 0.83.**\n",
    "*   Also there is moderate correlation between MonthlyCharges and Total Charges."
   ]
  },
  {
   "cell_type": "code",
   "execution_count": 30,
   "metadata": {
    "colab": {
     "base_uri": "https://localhost:8080/",
     "height": 742
    },
    "id": "laiPxkjDmrs_",
    "outputId": "e5ce9650-8b95-4de4-82a6-ae58932ac582"
   },
   "outputs": [
    {
     "data": {
      "text/plain": [
       "<seaborn.axisgrid.PairGrid at 0xc2ef7f0>"
      ]
     },
     "execution_count": 30,
     "metadata": {},
     "output_type": "execute_result"
    },
    {
     "data": {
      "image/png": "[encoded data removed]",
      "text/plain": [
       "<Figure size 777.475x720 with 20 Axes>"
      ]
     },
     "metadata": {},
     "output_type": "display_data"
    }
   ],
   "source": [
    "# Use pairplot to plot the distribution of each variable.\n",
    "colormap= sns.color_palette(\"BuGn\", 2)\n",
    "sns.pairplot(TeleChurn, hue = 'Churn',palette=colormap, diag_kind = 'kde')"
   ]
  },
  {
   "cell_type": "markdown",
   "metadata": {
    "id": "gQsfRNT6uR4E"
   },
   "source": [
    "There seems to have a correlation of the Monthly Charges and Total Charge. We observe that the total charges increases as the monthly bill for a customer increases."
   ]
  },
  {
   "cell_type": "markdown",
   "metadata": {
    "id": "BqlzVyzDmrTJ"
   },
   "source": [
    "# **4. Data pre-processing:** \n",
    "• Segregate predictors vs target attributes\n",
    "\n",
    "• Check for target balancing and fix it if found imbalanced.\n",
    "\n",
    "• Perform train-test split.\n",
    "\n",
    "• Check if the train and test data have similar statistical characteristics when compared with original data."
   ]
  },
  {
   "cell_type": "code",
   "execution_count": 31,
   "metadata": {
    "id": "Hscd9SN1vvjI"
   },
   "outputs": [],
   "source": [
    "TeleChurn.Churn.replace(['Yes','No'],[1,0],inplace=True)"
   ]
  },
  {
   "cell_type": "code",
   "execution_count": 32,
   "metadata": {
    "id": "xzCeEAM92Sae"
   },
   "outputs": [],
   "source": [
    "#Dropping the column 'CustomerId' as it is not an important feature\n",
    "TeleChurn.drop(['customerID'],inplace = True, axis =1)"
   ]
  },
  {
   "cell_type": "code",
   "execution_count": 33,
   "metadata": {
    "id": "kG4eUeaOzdZb"
   },
   "outputs": [],
   "source": [
    "TeleChurn_Copy = TeleChurn.copy(deep=True) # Create a copy of original dataset."
   ]
  },
  {
   "cell_type": "markdown",
   "metadata": {
    "id": "HN8YnjBG3LMz"
   },
   "source": [
    "### **Let's do statistical analysis to check the hypothesis to accept or reject the numerical features**"
   ]
  },
  {
   "cell_type": "code",
   "execution_count": 34,
   "metadata": {
    "colab": {
     "base_uri": "https://localhost:8080/"
    },
    "id": "_wJGhJywza29",
    "outputId": "f68ef855-5f9e-4c8b-a5a5-46a5fe681e61"
   },
   "outputs": [
    {
     "name": "stdout",
     "output_type": "stream",
     "text": [
      "t_statistic and p_value of SeniorCitizen : -12.80786572603475 and 3.8398600557847846e-37\n",
      "Rejecting Null Hypothesis: Customer who Churn and who do not Churn does NOT have same distribution of SeniorCitizen\n",
      "\n",
      "\n",
      "t_statistic and p_value of tenure : 31.57955051135377 and 7.99905796059022e-205\n",
      "Rejecting Null Hypothesis: Customer who Churn and who do not Churn does NOT have same distribution of tenure\n",
      "\n",
      "\n",
      "t_statistic and p_value of MonthlyCharges : -16.53673801593631 and 2.706645606888261e-60\n",
      "Rejecting Null Hypothesis: Customer who Churn and who do not Churn does NOT have same distribution of MonthlyCharges\n",
      "\n",
      "\n",
      "t_statistic and p_value of TotalCharges : 17.04229535246348 and 7.508609056708869e-64\n",
      "Rejecting Null Hypothesis: Customer who Churn and who do not Churn does NOT have same distribution of TotalCharges\n",
      "\n",
      "\n"
     ]
    }
   ],
   "source": [
    "from scipy.stats import ttest_ind,ttest_1samp\n",
    "\n",
    "Grp1=TeleChurn_Copy[TeleChurn['Churn'] == 0]\n",
    "Grp2=TeleChurn_Copy[TeleChurn['Churn'] == 1]\n",
    "\n",
    "for i in Numeric_df:\n",
    "  t_statistic, p_value = ttest_ind(Grp1[i], Grp2[i])\n",
    "  print('t_statistic and p_value of {} : {} and {}'.format(i,t_statistic, p_value) )\n",
    "\n",
    "  if p_value < 0.05:  # Setting our significance level at 5%\n",
    "        print('Rejecting Null Hypothesis: Customer who Churn and who do not Churn does NOT have same distribution of {}'.format(i))\n",
    "        print('\\n')\n",
    "  else:\n",
    "        print('Fail to Reject Null Hypothesis: Customer who Churn and who do not Churn have same distribution of {}'.format(i))\n",
    "        print('\\n')"
   ]
  },
  {
   "cell_type": "markdown",
   "metadata": {
    "id": "2JpncywA4O-C"
   },
   "source": [
    "### **Carrying out Hypothesis Testing for categorical variables.**"
   ]
  },
  {
   "cell_type": "code",
   "execution_count": 35,
   "metadata": {
    "colab": {
     "base_uri": "https://localhost:8080/",
     "height": 289
    },
    "id": "M9Y6xkFWwvvV",
    "outputId": "459cd7b4-a8a7-4721-b7d9-e3d461d3e4c5"
   },
   "outputs": [
    {
     "data": {
      "text/html": [
       "<div>\n",
       "<style scoped>\n",
       "    .dataframe tbody tr th:only-of-type {\n",
       "        vertical-align: middle;\n",
       "    }\n",
       "\n",
       "    .dataframe tbody tr th {\n",
       "        vertical-align: top;\n",
       "    }\n",
       "\n",
       "    .dataframe thead th {\n",
       "        text-align: right;\n",
       "    }\n",
       "</style>\n",
       "<table border=\"1\" class=\"dataframe\">\n",
       "  <thead>\n",
       "    <tr style=\"text-align: right;\">\n",
       "      <th></th>\n",
       "      <th>gender</th>\n",
       "      <th>Partner</th>\n",
       "      <th>Dependents</th>\n",
       "      <th>PhoneService</th>\n",
       "      <th>MultipleLines</th>\n",
       "      <th>InternetService</th>\n",
       "      <th>OnlineSecurity</th>\n",
       "      <th>OnlineBackup</th>\n",
       "      <th>DeviceProtection</th>\n",
       "      <th>TechSupport</th>\n",
       "      <th>StreamingTV</th>\n",
       "      <th>StreamingMovies</th>\n",
       "      <th>Contract</th>\n",
       "      <th>PaperlessBilling</th>\n",
       "      <th>PaymentMethod</th>\n",
       "    </tr>\n",
       "  </thead>\n",
       "  <tbody>\n",
       "    <tr>\n",
       "      <th>0</th>\n",
       "      <td>Female</td>\n",
       "      <td>Yes</td>\n",
       "      <td>No</td>\n",
       "      <td>No</td>\n",
       "      <td>No phone service</td>\n",
       "      <td>DSL</td>\n",
       "      <td>No</td>\n",
       "      <td>Yes</td>\n",
       "      <td>No</td>\n",
       "      <td>No</td>\n",
       "      <td>No</td>\n",
       "      <td>No</td>\n",
       "      <td>Month-to-month</td>\n",
       "      <td>Yes</td>\n",
       "      <td>Electronic check</td>\n",
       "    </tr>\n",
       "    <tr>\n",
       "      <th>1</th>\n",
       "      <td>Male</td>\n",
       "      <td>No</td>\n",
       "      <td>No</td>\n",
       "      <td>Yes</td>\n",
       "      <td>No</td>\n",
       "      <td>DSL</td>\n",
       "      <td>Yes</td>\n",
       "      <td>No</td>\n",
       "      <td>Yes</td>\n",
       "      <td>No</td>\n",
       "      <td>No</td>\n",
       "      <td>No</td>\n",
       "      <td>One year</td>\n",
       "      <td>No</td>\n",
       "      <td>Mailed check</td>\n",
       "    </tr>\n",
       "    <tr>\n",
       "      <th>2</th>\n",
       "      <td>Male</td>\n",
       "      <td>No</td>\n",
       "      <td>No</td>\n",
       "      <td>Yes</td>\n",
       "      <td>No</td>\n",
       "      <td>DSL</td>\n",
       "      <td>Yes</td>\n",
       "      <td>Yes</td>\n",
       "      <td>No</td>\n",
       "      <td>No</td>\n",
       "      <td>No</td>\n",
       "      <td>No</td>\n",
       "      <td>Month-to-month</td>\n",
       "      <td>Yes</td>\n",
       "      <td>Mailed check</td>\n",
       "    </tr>\n",
       "    <tr>\n",
       "      <th>3</th>\n",
       "      <td>Male</td>\n",
       "      <td>No</td>\n",
       "      <td>No</td>\n",
       "      <td>No</td>\n",
       "      <td>No phone service</td>\n",
       "      <td>DSL</td>\n",
       "      <td>Yes</td>\n",
       "      <td>No</td>\n",
       "      <td>Yes</td>\n",
       "      <td>Yes</td>\n",
       "      <td>No</td>\n",
       "      <td>No</td>\n",
       "      <td>One year</td>\n",
       "      <td>No</td>\n",
       "      <td>Bank transfer (automatic)</td>\n",
       "    </tr>\n",
       "    <tr>\n",
       "      <th>4</th>\n",
       "      <td>Female</td>\n",
       "      <td>No</td>\n",
       "      <td>No</td>\n",
       "      <td>Yes</td>\n",
       "      <td>No</td>\n",
       "      <td>Fiber optic</td>\n",
       "      <td>No</td>\n",
       "      <td>No</td>\n",
       "      <td>No</td>\n",
       "      <td>No</td>\n",
       "      <td>No</td>\n",
       "      <td>No</td>\n",
       "      <td>Month-to-month</td>\n",
       "      <td>Yes</td>\n",
       "      <td>Electronic check</td>\n",
       "    </tr>\n",
       "  </tbody>\n",
       "</table>\n",
       "</div>"
      ],
      "text/plain": [
       "   gender Partner Dependents PhoneService     MultipleLines InternetService  \\\n",
       "0  Female     Yes         No           No  No phone service             DSL   \n",
       "1    Male      No         No          Yes                No             DSL   \n",
       "2    Male      No         No          Yes                No             DSL   \n",
       "3    Male      No         No           No  No phone service             DSL   \n",
       "4  Female      No         No          Yes                No     Fiber optic   \n",
       "\n",
       "  OnlineSecurity OnlineBackup DeviceProtection TechSupport StreamingTV  \\\n",
       "0             No          Yes               No          No          No   \n",
       "1            Yes           No              Yes          No          No   \n",
       "2            Yes          Yes               No          No          No   \n",
       "3            Yes           No              Yes         Yes          No   \n",
       "4             No           No               No          No          No   \n",
       "\n",
       "  StreamingMovies        Contract PaperlessBilling              PaymentMethod  \n",
       "0              No  Month-to-month              Yes           Electronic check  \n",
       "1              No        One year               No               Mailed check  \n",
       "2              No  Month-to-month              Yes               Mailed check  \n",
       "3              No        One year               No  Bank transfer (automatic)  \n",
       "4              No  Month-to-month              Yes           Electronic check  "
      ]
     },
     "execution_count": 35,
     "metadata": {},
     "output_type": "execute_result"
    }
   ],
   "source": [
    "# Create a dataframe of Categorical variables by seperating these features from the dataset.\n",
    "obj_df = TeleChurn.select_dtypes(include=['object']).copy()\n",
    "obj_df.head()"
   ]
  },
  {
   "cell_type": "code",
   "execution_count": 36,
   "metadata": {
    "colab": {
     "base_uri": "https://localhost:8080/",
     "height": 69
    },
    "id": "ECL2oFG-z9Ox",
    "outputId": "9a5365d8-342a-4690-9318-7d00bc9f5dd8"
   },
   "outputs": [
    {
     "data": {
      "text/html": [
       "<div>\n",
       "<style scoped>\n",
       "    .dataframe tbody tr th:only-of-type {\n",
       "        vertical-align: middle;\n",
       "    }\n",
       "\n",
       "    .dataframe tbody tr th {\n",
       "        vertical-align: top;\n",
       "    }\n",
       "\n",
       "    .dataframe thead th {\n",
       "        text-align: right;\n",
       "    }\n",
       "</style>\n",
       "<table border=\"1\" class=\"dataframe\">\n",
       "  <thead>\n",
       "    <tr style=\"text-align: right;\">\n",
       "      <th></th>\n",
       "      <th>gender</th>\n",
       "      <th>Partner</th>\n",
       "      <th>Dependents</th>\n",
       "      <th>PhoneService</th>\n",
       "      <th>MultipleLines</th>\n",
       "      <th>InternetService</th>\n",
       "      <th>OnlineSecurity</th>\n",
       "      <th>OnlineBackup</th>\n",
       "      <th>DeviceProtection</th>\n",
       "      <th>TechSupport</th>\n",
       "      <th>StreamingTV</th>\n",
       "      <th>StreamingMovies</th>\n",
       "      <th>Contract</th>\n",
       "      <th>PaperlessBilling</th>\n",
       "      <th>PaymentMethod</th>\n",
       "    </tr>\n",
       "  </thead>\n",
       "  <tbody>\n",
       "  </tbody>\n",
       "</table>\n",
       "</div>"
      ],
      "text/plain": [
       "Empty DataFrame\n",
       "Columns: [gender, Partner, Dependents, PhoneService, MultipleLines, InternetService, OnlineSecurity, OnlineBackup, DeviceProtection, TechSupport, StreamingTV, StreamingMovies, Contract, PaperlessBilling, PaymentMethod]\n",
       "Index: []"
      ]
     },
     "execution_count": 36,
     "metadata": {},
     "output_type": "execute_result"
    }
   ],
   "source": [
    "# Check for null values\n",
    "obj_df[obj_df.isnull().any(axis=1)]"
   ]
  },
  {
   "cell_type": "markdown",
   "metadata": {
    "id": "W29Lh7ro8mBl"
   },
   "source": [
    "**There are No null values in object data type.**"
   ]
  },
  {
   "cell_type": "markdown",
   "metadata": {
    "id": "hQy07L7OCabY"
   },
   "source": [
    "### **Hypothesis Testing for categorical variables**"
   ]
  },
  {
   "cell_type": "code",
   "execution_count": 37,
   "metadata": {
    "colab": {
     "base_uri": "https://localhost:8080/"
    },
    "id": "I7SW79Oy3Ja4",
    "outputId": "92ccf185-eeb8-4de0-a3ca-1868e3835e13"
   },
   "outputs": [
    {
     "name": "stdout",
     "output_type": "stream",
     "text": [
      "Chi-square statistic: 0.48408 , P value:  0.486579\n",
      "Fail to Reject Null Hypothesis: Customer who Churn and who do not Churn have same distribution of gender\n",
      "\n",
      "\n",
      "Chi-square statistic: 158.73338 , P value:  0.000000\n",
      "Rejecting Null Hypothesis: Customer who Churn and who do not Churn does NOT have same distribution of Partner\n",
      "\n",
      "\n",
      "Chi-square statistic: 189.12925 , P value:  0.000000\n",
      "Rejecting Null Hypothesis: Customer who Churn and who do not Churn does NOT have same distribution of Dependents\n",
      "\n",
      "\n",
      "Chi-square statistic: 0.91503 , P value:  0.338783\n",
      "Fail to Reject Null Hypothesis: Customer who Churn and who do not Churn have same distribution of PhoneService\n",
      "\n",
      "\n",
      "Chi-square statistic: 11.33044 , P value:  0.003464\n",
      "Rejecting Null Hypothesis: Customer who Churn and who do not Churn does NOT have same distribution of MultipleLines\n",
      "\n",
      "\n",
      "Chi-square statistic: 732.30959 , P value:  0.000000\n",
      "Rejecting Null Hypothesis: Customer who Churn and who do not Churn does NOT have same distribution of InternetService\n",
      "\n",
      "\n",
      "Chi-square statistic: 849.99897 , P value:  0.000000\n",
      "Rejecting Null Hypothesis: Customer who Churn and who do not Churn does NOT have same distribution of OnlineSecurity\n",
      "\n",
      "\n",
      "Chi-square statistic: 601.81279 , P value:  0.000000\n",
      "Rejecting Null Hypothesis: Customer who Churn and who do not Churn does NOT have same distribution of OnlineBackup\n",
      "\n",
      "\n",
      "Chi-square statistic: 558.41937 , P value:  0.000000\n",
      "Rejecting Null Hypothesis: Customer who Churn and who do not Churn does NOT have same distribution of DeviceProtection\n",
      "\n",
      "\n",
      "Chi-square statistic: 828.19707 , P value:  0.000000\n",
      "Rejecting Null Hypothesis: Customer who Churn and who do not Churn does NOT have same distribution of TechSupport\n",
      "\n",
      "\n",
      "Chi-square statistic: 374.20394 , P value:  0.000000\n",
      "Rejecting Null Hypothesis: Customer who Churn and who do not Churn does NOT have same distribution of StreamingTV\n",
      "\n",
      "\n",
      "Chi-square statistic: 375.66148 , P value:  0.000000\n",
      "Rejecting Null Hypothesis: Customer who Churn and who do not Churn does NOT have same distribution of StreamingMovies\n",
      "\n",
      "\n",
      "Chi-square statistic: 1184.59657 , P value:  0.000000\n",
      "Rejecting Null Hypothesis: Customer who Churn and who do not Churn does NOT have same distribution of Contract\n",
      "\n",
      "\n",
      "Chi-square statistic: 258.27765 , P value:  0.000000\n",
      "Rejecting Null Hypothesis: Customer who Churn and who do not Churn does NOT have same distribution of PaperlessBilling\n",
      "\n",
      "\n",
      "Chi-square statistic: 648.14233 , P value:  0.000000\n",
      "Rejecting Null Hypothesis: Customer who Churn and who do not Churn does NOT have same distribution of PaymentMethod\n",
      "\n",
      "\n"
     ]
    }
   ],
   "source": [
    "import scipy.stats as stats\n",
    "\n",
    "for i in obj_df:\n",
    "  crosstab=pd.crosstab(TeleChurn_Copy['Churn'],TeleChurn_Copy[i])\n",
    "  chi_sq_Stat, p_value, deg_freedom, exp_freq = stats.chi2_contingency(crosstab)\n",
    "\n",
    "  print('Chi-square statistic: %3.5f , P value:  %1.6f' %(chi_sq_Stat, p_value))\n",
    "\n",
    "  if p_value < 0.05:  # Setting our significance level at 5%\n",
    "        print('Rejecting Null Hypothesis: Customer who Churn and who do not Churn does NOT have same distribution of {}'.format(i))\n",
    "        print('\\n')\n",
    "  else:\n",
    "        print('Fail to Reject Null Hypothesis: Customer who Churn and who do not Churn have same distribution of {}'.format(i))\n",
    "        print('\\n')"
   ]
  },
  {
   "cell_type": "markdown",
   "metadata": {
    "id": "ABwCqnBp5hTW"
   },
   "source": [
    "From above Hypothesis testing, we clearly understand that the categorical variables **'gender' and 'PhoneService'** have no significant contribution in distiguishing Churn and Non Churn Customers. Hence **these features can be dropped**.\n",
    "\n",
    "Also from **Bivariate analysis it is observed that Contract and Tenure are related** to each other hence we can **drop the 'Contract' feature.**\n",
    "\n",
    "**From Correlation matrix** we can observe that the 'tenure' and 'TotalCharges' are highly correlated, so **let's drop 'TotalCharges' feature.**"
   ]
  },
  {
   "cell_type": "code",
   "execution_count": 38,
   "metadata": {
    "id": "78-QNmXE6IMo"
   },
   "outputs": [],
   "source": [
    "TeleChurn_Copy.drop(['gender','PhoneService'],inplace = True, axis =1)"
   ]
  },
  {
   "cell_type": "code",
   "execution_count": 39,
   "metadata": {
    "id": "G7_DpseGHHom"
   },
   "outputs": [],
   "source": [
    "TeleChurn_Copy.drop(['Contract','TotalCharges'],inplace = True, axis =1)"
   ]
  },
  {
   "cell_type": "markdown",
   "metadata": {
    "id": "eqVkt2KkDR-n"
   },
   "source": [
    "**One hot encoding.**\n",
    "\n",
    "Categorical features need to be converted to numbers so that they can be included in calculations done by a machine learning model. The categorical variables in our data set are not ordinal (i.e. there is no order in them). For example, “DSL” internet service is not superior to “Fiber optic” internet service. \n",
    "\n",
    "When we encode the categorical variables, a number will be assigned to each category. The category with higher numbers will be considered more important or effect the model more. Therefore, we need to do encode the variables in a way that each category will be represented by a column and the value in that column will be 0 or 1.\n"
   ]
  },
  {
   "cell_type": "code",
   "execution_count": 40,
   "metadata": {
    "id": "KiPQPEEtZLqj"
   },
   "outputs": [],
   "source": [
    "from sklearn.preprocessing import LabelEncoder, OneHotEncoder\n",
    "from sklearn.preprocessing import MinMaxScaler\n",
    "\n",
    "cols = ['SeniorCitizen', 'Partner', 'Dependents', 'PaperlessBilling']\n",
    "\n",
    "X = pd.get_dummies(TeleChurn_Copy, columns=cols, drop_first=True)"
   ]
  },
  {
   "cell_type": "code",
   "execution_count": 41,
   "metadata": {
    "colab": {
     "base_uri": "https://localhost:8080/",
     "height": 222
    },
    "id": "7XmZSdcf-KbK",
    "outputId": "fcf59437-2319-4cb3-9f10-3f886e96244c"
   },
   "outputs": [
    {
     "data": {
      "text/html": [
       "<div>\n",
       "<style scoped>\n",
       "    .dataframe tbody tr th:only-of-type {\n",
       "        vertical-align: middle;\n",
       "    }\n",
       "\n",
       "    .dataframe tbody tr th {\n",
       "        vertical-align: top;\n",
       "    }\n",
       "\n",
       "    .dataframe thead th {\n",
       "        text-align: right;\n",
       "    }\n",
       "</style>\n",
       "<table border=\"1\" class=\"dataframe\">\n",
       "  <thead>\n",
       "    <tr style=\"text-align: right;\">\n",
       "      <th></th>\n",
       "      <th>tenure</th>\n",
       "      <th>MultipleLines</th>\n",
       "      <th>InternetService</th>\n",
       "      <th>OnlineSecurity</th>\n",
       "      <th>OnlineBackup</th>\n",
       "      <th>DeviceProtection</th>\n",
       "      <th>TechSupport</th>\n",
       "      <th>StreamingTV</th>\n",
       "      <th>StreamingMovies</th>\n",
       "      <th>PaymentMethod</th>\n",
       "      <th>MonthlyCharges</th>\n",
       "      <th>Churn</th>\n",
       "      <th>SeniorCitizen_1</th>\n",
       "      <th>Partner_Yes</th>\n",
       "      <th>Dependents_Yes</th>\n",
       "      <th>PaperlessBilling_Yes</th>\n",
       "    </tr>\n",
       "  </thead>\n",
       "  <tbody>\n",
       "    <tr>\n",
       "      <th>0</th>\n",
       "      <td>1</td>\n",
       "      <td>0</td>\n",
       "      <td>1</td>\n",
       "      <td>0</td>\n",
       "      <td>2</td>\n",
       "      <td>0</td>\n",
       "      <td>0</td>\n",
       "      <td>0</td>\n",
       "      <td>0</td>\n",
       "      <td>1</td>\n",
       "      <td>29.85</td>\n",
       "      <td>0</td>\n",
       "      <td>0</td>\n",
       "      <td>1</td>\n",
       "      <td>0</td>\n",
       "      <td>1</td>\n",
       "    </tr>\n",
       "    <tr>\n",
       "      <th>1</th>\n",
       "      <td>34</td>\n",
       "      <td>1</td>\n",
       "      <td>1</td>\n",
       "      <td>2</td>\n",
       "      <td>0</td>\n",
       "      <td>2</td>\n",
       "      <td>0</td>\n",
       "      <td>0</td>\n",
       "      <td>0</td>\n",
       "      <td>2</td>\n",
       "      <td>56.95</td>\n",
       "      <td>0</td>\n",
       "      <td>0</td>\n",
       "      <td>0</td>\n",
       "      <td>0</td>\n",
       "      <td>0</td>\n",
       "    </tr>\n",
       "    <tr>\n",
       "      <th>2</th>\n",
       "      <td>2</td>\n",
       "      <td>1</td>\n",
       "      <td>1</td>\n",
       "      <td>2</td>\n",
       "      <td>2</td>\n",
       "      <td>0</td>\n",
       "      <td>0</td>\n",
       "      <td>0</td>\n",
       "      <td>0</td>\n",
       "      <td>2</td>\n",
       "      <td>53.85</td>\n",
       "      <td>1</td>\n",
       "      <td>0</td>\n",
       "      <td>0</td>\n",
       "      <td>0</td>\n",
       "      <td>1</td>\n",
       "    </tr>\n",
       "    <tr>\n",
       "      <th>3</th>\n",
       "      <td>45</td>\n",
       "      <td>0</td>\n",
       "      <td>1</td>\n",
       "      <td>2</td>\n",
       "      <td>0</td>\n",
       "      <td>2</td>\n",
       "      <td>2</td>\n",
       "      <td>0</td>\n",
       "      <td>0</td>\n",
       "      <td>3</td>\n",
       "      <td>42.30</td>\n",
       "      <td>0</td>\n",
       "      <td>0</td>\n",
       "      <td>0</td>\n",
       "      <td>0</td>\n",
       "      <td>0</td>\n",
       "    </tr>\n",
       "    <tr>\n",
       "      <th>4</th>\n",
       "      <td>2</td>\n",
       "      <td>1</td>\n",
       "      <td>2</td>\n",
       "      <td>0</td>\n",
       "      <td>0</td>\n",
       "      <td>0</td>\n",
       "      <td>0</td>\n",
       "      <td>0</td>\n",
       "      <td>0</td>\n",
       "      <td>1</td>\n",
       "      <td>70.70</td>\n",
       "      <td>1</td>\n",
       "      <td>0</td>\n",
       "      <td>0</td>\n",
       "      <td>0</td>\n",
       "      <td>1</td>\n",
       "    </tr>\n",
       "  </tbody>\n",
       "</table>\n",
       "</div>"
      ],
      "text/plain": [
       "   tenure  MultipleLines  InternetService  OnlineSecurity  OnlineBackup  \\\n",
       "0       1              0                1               0             2   \n",
       "1      34              1                1               2             0   \n",
       "2       2              1                1               2             2   \n",
       "3      45              0                1               2             0   \n",
       "4       2              1                2               0             0   \n",
       "\n",
       "   DeviceProtection  TechSupport  StreamingTV  StreamingMovies  PaymentMethod  \\\n",
       "0                 0            0            0                0              1   \n",
       "1                 2            0            0                0              2   \n",
       "2                 0            0            0                0              2   \n",
       "3                 2            2            0                0              3   \n",
       "4                 0            0            0                0              1   \n",
       "\n",
       "   MonthlyCharges  Churn  SeniorCitizen_1  Partner_Yes  Dependents_Yes  \\\n",
       "0           29.85      0                0            1               0   \n",
       "1           56.95      0                0            0               0   \n",
       "2           53.85      1                0            0               0   \n",
       "3           42.30      0                0            0               0   \n",
       "4           70.70      1                0            0               0   \n",
       "\n",
       "   PaperlessBilling_Yes  \n",
       "0                     1  \n",
       "1                     0  \n",
       "2                     1  \n",
       "3                     0  \n",
       "4                     1  "
      ]
     },
     "execution_count": 41,
     "metadata": {},
     "output_type": "execute_result"
    }
   ],
   "source": [
    "cleanup_nums = {\"MultipleLines\": {\"No phone service\": 0, \"No\": 1, \"Yes\": 2},\n",
    "                \"InternetService\":{\"No\": 0, \"DSL\": 1, \"Fiber optic\": 2},\n",
    "                \"OnlineSecurity\" :{\"No\" : 0, \"No internet service\" : 1, \"Yes\": 2},\n",
    "                \"OnlineBackup\" :{\"No\" : 0, \"No internet service\" : 1, \"Yes\": 2},\n",
    "                \"DeviceProtection\" :{\"No\" : 0, \"No internet service\" : 1, \"Yes\": 2},\n",
    "                \"TechSupport\" :{\"No\" : 0, \"No internet service\" : 1, \"Yes\": 2},\n",
    "                \"StreamingTV\" :{\"No\" : 0, \"No internet service\" : 1, \"Yes\": 2},\n",
    "                \"StreamingMovies\" :{\"No\" : 0, \"No internet service\" : 1, \"Yes\": 2},\n",
    "                \"PaymentMethod\" : {'Electronic check': 1, 'Mailed check' : 2, 'Bank transfer (automatic)': 3,'Credit card (automatic)':4},\n",
    "                \"Contract\" : {'Month-to-month' : 0, 'One year': 1, 'Two year':2}}\n",
    "X = X.replace(cleanup_nums)\n",
    "X.head()\n"
   ]
  },
  {
   "cell_type": "code",
   "execution_count": 42,
   "metadata": {
    "colab": {
     "base_uri": "https://localhost:8080/"
    },
    "id": "048V8ObaNGzU",
    "outputId": "702588bc-1503-4650-ff29-c52740996e62"
   },
   "outputs": [
    {
     "name": "stdout",
     "output_type": "stream",
     "text": [
      "<class 'pandas.core.frame.DataFrame'>\n",
      "RangeIndex: 7043 entries, 0 to 7042\n",
      "Data columns (total 16 columns):\n",
      " #   Column                Non-Null Count  Dtype  \n",
      "---  ------                --------------  -----  \n",
      " 0   tenure                7043 non-null   int64  \n",
      " 1   MultipleLines         7043 non-null   int64  \n",
      " 2   InternetService       7043 non-null   int64  \n",
      " 3   OnlineSecurity        7043 non-null   int64  \n",
      " 4   OnlineBackup          7043 non-null   int64  \n",
      " 5   DeviceProtection      7043 non-null   int64  \n",
      " 6   TechSupport           7043 non-null   int64  \n",
      " 7   StreamingTV           7043 non-null   int64  \n",
      " 8   StreamingMovies       7043 non-null   int64  \n",
      " 9   PaymentMethod         7043 non-null   int64  \n",
      " 10  MonthlyCharges        7043 non-null   float64\n",
      " 11  Churn                 7043 non-null   int64  \n",
      " 12  SeniorCitizen_1       7043 non-null   uint8  \n",
      " 13  Partner_Yes           7043 non-null   uint8  \n",
      " 14  Dependents_Yes        7043 non-null   uint8  \n",
      " 15  PaperlessBilling_Yes  7043 non-null   uint8  \n",
      "dtypes: float64(1), int64(11), uint8(4)\n",
      "memory usage: 687.9 KB\n"
     ]
    }
   ],
   "source": [
    "X.info()"
   ]
  },
  {
   "cell_type": "markdown",
   "metadata": {
    "id": "bK08qC6YI8A8"
   },
   "source": [
    "Now we have converted all the features as Numerical features that can be used to create model."
   ]
  },
  {
   "cell_type": "markdown",
   "metadata": {
    "id": "XrWtpwOGJb9t"
   },
   "source": [
    "**Let's perform scaling on continuous variables.**\n",
    "\n",
    "We also need to scale continuous variables. Otherwise, variables with higher values will be given more importance which effects the accuracy of the model."
   ]
  },
  {
   "cell_type": "code",
   "execution_count": 43,
   "metadata": {
    "id": "x3T3cD94NwCx"
   },
   "outputs": [],
   "source": [
    "cols=['tenure',\t'MonthlyCharges']\n",
    "\n",
    "scaler = MinMaxScaler()\n",
    "\n",
    "X['tenure'] = scaler.fit_transform(X[['tenure']])\n",
    "X['MonthlyCharges'] = scaler.fit_transform(X[['MonthlyCharges']])"
   ]
  },
  {
   "cell_type": "markdown",
   "metadata": {
    "id": "rEr0YNapv0ZR"
   },
   "source": [
    "### **Let's Check the distribution of Target variable \"Churn\" plot it to check target balancing**"
   ]
  },
  {
   "cell_type": "code",
   "execution_count": 44,
   "metadata": {
    "id": "_clbEMfhuyEK"
   },
   "outputs": [],
   "source": [
    "binary_cols.remove('Churn')"
   ]
  },
  {
   "cell_type": "code",
   "execution_count": 45,
   "metadata": {
    "colab": {
     "base_uri": "https://localhost:8080/"
    },
    "id": "oBmuHZ8i_s-M",
    "outputId": "25245092-ddbf-4532-cf91-2b9e73787949"
   },
   "outputs": [
    {
     "data": {
      "text/plain": [
       "0    5174\n",
       "1    1869\n",
       "Name: Churn, dtype: int64"
      ]
     },
     "execution_count": 45,
     "metadata": {},
     "output_type": "execute_result"
    }
   ],
   "source": [
    "TeleChurn['Churn'].value_counts()"
   ]
  },
  {
   "cell_type": "code",
   "execution_count": 46,
   "metadata": {
    "colab": {
     "base_uri": "https://localhost:8080/",
     "height": 444
    },
    "id": "jamuq40gwx2F",
    "outputId": "4be7dbfa-a8ce-4fa6-eede-22b43eeb1c22"
   },
   "outputs": [
    {
     "data": {
      "image/png": "[encoded data removed]",
      "text/plain": [
       "<Figure size 1008x504 with 2 Axes>"
      ]
     },
     "metadata": {},
     "output_type": "display_data"
    }
   ],
   "source": [
    "fig,axes=plt.subplots(1,2,figsize=(14,7))\n",
    "TeleChurn['Churn'].value_counts().plot.pie(autopct='%1.1f%%',ax=axes[0])\n",
    "TeleChurn.Churn.value_counts().plot(color = ['blue','orange'],kind='bar',ax=axes[1])\n",
    "axes[0].set_title('Pie Chart -Target Variable ')\n",
    "axes[1].set_title('Bar Graph - Target Variable ')\n",
    "plt.show()"
   ]
  },
  {
   "cell_type": "markdown",
   "metadata": {
    "id": "ifolZrgi_h3k"
   },
   "source": [
    "**A bar plot and value counts above revealed that the target variable is highly unbalanced, with nearly most customers have not Churn.**"
   ]
  },
  {
   "cell_type": "markdown",
   "metadata": {
    "id": "A5AKJna7TgOW"
   },
   "source": [
    "## **Target Balancing**"
   ]
  },
  {
   "cell_type": "markdown",
   "metadata": {
    "id": "mEMOjVtBZSbs"
   },
   "source": [
    "*   **Up-sampling is the process of randomly duplicating observations from the minority class in order to reinforce its signal.**\n",
    "*   There are several heuristics for doing so, but the most common way is to simply resample with replacement.\n",
    "*  We'll create a new DataFrame with an up-sampled minority class. \n",
    "\n",
    "The steps are:\n",
    "\n",
    "1.   Separate observations from each class into different DataFrames.\n",
    "2.   Resample the minority class with replacement, setting the number of samples to match that of the majority class.\n",
    "3.   Combine the up-sampled minority class DataFrame with the original majority class DataFrame.\n",
    "\n",
    "\n",
    "*  the new DataFrame has more observations than the original, and the ratio of the two classes is now 1:1.\n",
    "\n",
    "\n",
    "\n",
    "\n",
    "\n",
    "\n",
    "\n",
    "\n"
   ]
  },
  {
   "cell_type": "code",
   "execution_count": 47,
   "metadata": {
    "colab": {
     "base_uri": "https://localhost:8080/"
    },
    "id": "9r73jGu5XImY",
    "outputId": "5aa7de29-49a9-4d70-e538-e5f909241379"
   },
   "outputs": [
    {
     "data": {
      "text/plain": [
       "0    5174\n",
       "1    5174\n",
       "Name: Churn, dtype: int64"
      ]
     },
     "execution_count": 47,
     "metadata": {},
     "output_type": "execute_result"
    }
   ],
   "source": [
    "from sklearn.utils import resample\n",
    "\n",
    "# Separate majority and minority classes\n",
    "df_majority = X[X.Churn==0]\n",
    "df_minority = X[X.Churn==1]\n",
    " \n",
    "# Upsample minority class\n",
    "df_minority_upsampled = resample(df_minority, \n",
    "                                 replace=True,     # sample with replacement\n",
    "                                 n_samples=5174,    # to match majority class\n",
    "                                 random_state=12) # reproducible results\n",
    " \n",
    "# Combine majority class with upsampled minority class\n",
    "X_upsampled = pd.concat([df_majority, df_minority_upsampled])\n",
    " \n",
    "# Display new class counts\n",
    "X_upsampled.Churn.value_counts()"
   ]
  },
  {
   "cell_type": "code",
   "execution_count": 48,
   "metadata": {
    "colab": {
     "base_uri": "https://localhost:8080/",
     "height": 222
    },
    "id": "0wx6VrSRa7Po",
    "outputId": "752dedea-5b96-4991-cca3-bec74d8b8420"
   },
   "outputs": [
    {
     "data": {
      "text/html": [
       "<div>\n",
       "<style scoped>\n",
       "    .dataframe tbody tr th:only-of-type {\n",
       "        vertical-align: middle;\n",
       "    }\n",
       "\n",
       "    .dataframe tbody tr th {\n",
       "        vertical-align: top;\n",
       "    }\n",
       "\n",
       "    .dataframe thead th {\n",
       "        text-align: right;\n",
       "    }\n",
       "</style>\n",
       "<table border=\"1\" class=\"dataframe\">\n",
       "  <thead>\n",
       "    <tr style=\"text-align: right;\">\n",
       "      <th></th>\n",
       "      <th>tenure</th>\n",
       "      <th>MultipleLines</th>\n",
       "      <th>InternetService</th>\n",
       "      <th>OnlineSecurity</th>\n",
       "      <th>OnlineBackup</th>\n",
       "      <th>DeviceProtection</th>\n",
       "      <th>TechSupport</th>\n",
       "      <th>StreamingTV</th>\n",
       "      <th>StreamingMovies</th>\n",
       "      <th>PaymentMethod</th>\n",
       "      <th>MonthlyCharges</th>\n",
       "      <th>Churn</th>\n",
       "      <th>SeniorCitizen_1</th>\n",
       "      <th>Partner_Yes</th>\n",
       "      <th>Dependents_Yes</th>\n",
       "      <th>PaperlessBilling_Yes</th>\n",
       "    </tr>\n",
       "  </thead>\n",
       "  <tbody>\n",
       "    <tr>\n",
       "      <th>0</th>\n",
       "      <td>0.013889</td>\n",
       "      <td>0</td>\n",
       "      <td>1</td>\n",
       "      <td>0</td>\n",
       "      <td>2</td>\n",
       "      <td>0</td>\n",
       "      <td>0</td>\n",
       "      <td>0</td>\n",
       "      <td>0</td>\n",
       "      <td>1</td>\n",
       "      <td>0.115423</td>\n",
       "      <td>0</td>\n",
       "      <td>0</td>\n",
       "      <td>1</td>\n",
       "      <td>0</td>\n",
       "      <td>1</td>\n",
       "    </tr>\n",
       "    <tr>\n",
       "      <th>1</th>\n",
       "      <td>0.472222</td>\n",
       "      <td>1</td>\n",
       "      <td>1</td>\n",
       "      <td>2</td>\n",
       "      <td>0</td>\n",
       "      <td>2</td>\n",
       "      <td>0</td>\n",
       "      <td>0</td>\n",
       "      <td>0</td>\n",
       "      <td>2</td>\n",
       "      <td>0.385075</td>\n",
       "      <td>0</td>\n",
       "      <td>0</td>\n",
       "      <td>0</td>\n",
       "      <td>0</td>\n",
       "      <td>0</td>\n",
       "    </tr>\n",
       "    <tr>\n",
       "      <th>3</th>\n",
       "      <td>0.625000</td>\n",
       "      <td>0</td>\n",
       "      <td>1</td>\n",
       "      <td>2</td>\n",
       "      <td>0</td>\n",
       "      <td>2</td>\n",
       "      <td>2</td>\n",
       "      <td>0</td>\n",
       "      <td>0</td>\n",
       "      <td>3</td>\n",
       "      <td>0.239303</td>\n",
       "      <td>0</td>\n",
       "      <td>0</td>\n",
       "      <td>0</td>\n",
       "      <td>0</td>\n",
       "      <td>0</td>\n",
       "    </tr>\n",
       "    <tr>\n",
       "      <th>6</th>\n",
       "      <td>0.305556</td>\n",
       "      <td>2</td>\n",
       "      <td>2</td>\n",
       "      <td>0</td>\n",
       "      <td>2</td>\n",
       "      <td>0</td>\n",
       "      <td>0</td>\n",
       "      <td>2</td>\n",
       "      <td>0</td>\n",
       "      <td>4</td>\n",
       "      <td>0.704975</td>\n",
       "      <td>0</td>\n",
       "      <td>0</td>\n",
       "      <td>0</td>\n",
       "      <td>1</td>\n",
       "      <td>1</td>\n",
       "    </tr>\n",
       "    <tr>\n",
       "      <th>7</th>\n",
       "      <td>0.138889</td>\n",
       "      <td>0</td>\n",
       "      <td>1</td>\n",
       "      <td>2</td>\n",
       "      <td>0</td>\n",
       "      <td>0</td>\n",
       "      <td>0</td>\n",
       "      <td>0</td>\n",
       "      <td>0</td>\n",
       "      <td>2</td>\n",
       "      <td>0.114428</td>\n",
       "      <td>0</td>\n",
       "      <td>0</td>\n",
       "      <td>0</td>\n",
       "      <td>0</td>\n",
       "      <td>0</td>\n",
       "    </tr>\n",
       "  </tbody>\n",
       "</table>\n",
       "</div>"
      ],
      "text/plain": [
       "     tenure  MultipleLines  InternetService  OnlineSecurity  OnlineBackup  \\\n",
       "0  0.013889              0                1               0             2   \n",
       "1  0.472222              1                1               2             0   \n",
       "3  0.625000              0                1               2             0   \n",
       "6  0.305556              2                2               0             2   \n",
       "7  0.138889              0                1               2             0   \n",
       "\n",
       "   DeviceProtection  TechSupport  StreamingTV  StreamingMovies  PaymentMethod  \\\n",
       "0                 0            0            0                0              1   \n",
       "1                 2            0            0                0              2   \n",
       "3                 2            2            0                0              3   \n",
       "6                 0            0            2                0              4   \n",
       "7                 0            0            0                0              2   \n",
       "\n",
       "   MonthlyCharges  Churn  SeniorCitizen_1  Partner_Yes  Dependents_Yes  \\\n",
       "0        0.115423      0                0            1               0   \n",
       "1        0.385075      0                0            0               0   \n",
       "3        0.239303      0                0            0               0   \n",
       "6        0.704975      0                0            0               1   \n",
       "7        0.114428      0                0            0               0   \n",
       "\n",
       "   PaperlessBilling_Yes  \n",
       "0                     1  \n",
       "1                     0  \n",
       "3                     0  \n",
       "6                     1  \n",
       "7                     0  "
      ]
     },
     "execution_count": 48,
     "metadata": {},
     "output_type": "execute_result"
    }
   ],
   "source": [
    "X_upsampled.head()"
   ]
  },
  {
   "cell_type": "markdown",
   "metadata": {
    "id": "lTSp3YN9fIsO"
   },
   "source": [
    "**Thus the data is balanced using resampling technique and we can see 5174 samples in eact class of the target variable.** "
   ]
  },
  {
   "cell_type": "markdown",
   "metadata": {
    "id": "uVePoJfMcCxD"
   },
   "source": [
    "### **Segregate predictors vs target attributes**"
   ]
  },
  {
   "cell_type": "code",
   "execution_count": 49,
   "metadata": {
    "id": "EvXATLIycG90"
   },
   "outputs": [],
   "source": [
    "# Seperating features from target variable.\n",
    "\n",
    "X_sm = X_upsampled.drop('Churn',axis = 1) #features (independent variables)\n",
    "y_sm = X_upsampled['Churn']  #target (dependent variable)"
   ]
  },
  {
   "cell_type": "markdown",
   "metadata": {
    "id": "q-2yTbBValTf"
   },
   "source": [
    "### **Perform train-test split.**"
   ]
  },
  {
   "cell_type": "code",
   "execution_count": 50,
   "metadata": {
    "id": "3d77kJTBTx4F"
   },
   "outputs": [],
   "source": [
    "# Splitting the data into training and testing set.\n",
    "\n",
    "from sklearn.model_selection import train_test_split\n",
    "\n",
    "X_train, X_test, y_train, y_test = train_test_split(X_sm, y_sm, test_size = 0.3, random_state = 1)"
   ]
  },
  {
   "cell_type": "markdown",
   "metadata": {
    "id": "oXhGn0Hxd-Os"
   },
   "source": [
    "**• Check if the train and test data have similar statistical characteristics when compared with original data.**"
   ]
  },
  {
   "cell_type": "code",
   "execution_count": 51,
   "metadata": {
    "colab": {
     "base_uri": "https://localhost:8080/"
    },
    "id": "C1o1PzOKeC7u",
    "outputId": "82bc1ec2-938b-4e2a-8513-4132367a1bb1"
   },
   "outputs": [
    {
     "data": {
      "text/plain": [
       "(7243, 15)"
      ]
     },
     "execution_count": 51,
     "metadata": {},
     "output_type": "execute_result"
    }
   ],
   "source": [
    "X_train.shape"
   ]
  },
  {
   "cell_type": "code",
   "execution_count": 52,
   "metadata": {
    "colab": {
     "base_uri": "https://localhost:8080/"
    },
    "id": "tmgJMrOCeN4V",
    "outputId": "af58ca7a-ae2d-4b2b-c38d-823b1de39df9"
   },
   "outputs": [
    {
     "data": {
      "text/plain": [
       "(3105, 15)"
      ]
     },
     "execution_count": 52,
     "metadata": {},
     "output_type": "execute_result"
    }
   ],
   "source": [
    "X_test.shape"
   ]
  },
  {
   "cell_type": "markdown",
   "metadata": {
    "id": "uDo3TAAmfccZ"
   },
   "source": [
    "The **data cleaning is done on original dataset** to convert object datatypes into numerical by using one hot encoding technique, also **the scaling is performed on numerical features.**\n",
    "\n",
    "In the original dataset there are 20 independent features and the following **independent features are dropped** from the original dataset after performing exploratory data analysis **(EDA)**:\n",
    " \n",
    "*   CustomerID\n",
    "*   gender\n",
    "*   PhoneService\n",
    "*   Contract\n",
    "*   TotalCharges\n",
    "\n",
    "Thus the dataset now has 15 independent features used for training and testing.\n",
    "\n",
    "**Class imbalance is handled by resampling** the data using sampling with replacement.\n",
    "\n",
    "**We have splitted the dataset into train and test** data set with 70% data as training set and 30% in test dataset.\n",
    "\n",
    "**ORIGINAL DATASET: 7043 samples.**\n",
    "\n",
    "**Train set : 7243 samples**\n",
    "\n",
    "**Test Set : 3105 samples.** \n"
   ]
  },
  {
   "cell_type": "markdown",
   "metadata": {
    "id": "f1k8_0-SkVq3"
   },
   "source": [
    "# **5. Model training, testing and tuning:** \n",
    "• Train and test all ensemble models taught in the learning module.\n",
    "\n",
    "• Suggestion: Use standard ensembles available. Also you can design your own ensemble technique using weak classifiers.\n",
    "\n",
    "• Display the classification accuracies for train and test data.\n",
    "\n",
    "• Apply all the possible tuning techniques to train the best model for the given data.\n",
    "\n",
    "• Suggestion: Use all possible hyper parameter combinations to extract the best accuracies.\n",
    "\n",
    "• Display and compare all the models designed with their train and test accuracies.\n",
    "\n",
    "• Select the final best trained model along with your detailed comments for selecting this model.\n",
    "\n",
    "• Pickle the selected model for future use."
   ]
  },
  {
   "cell_type": "markdown",
   "metadata": {
    "id": "oEl5rrGBJ_ob"
   },
   "source": [
    "## **Decision tree Classifier:**\n",
    "\n",
    "Decision trees are constructed via an algorithmic approach that identifies ways to split a data set based on different conditions. It is one of the most widely used and practical methods for supervised learning. Decision Trees are a non-parametric supervised learning method used for both classification and regression tasks."
   ]
  },
  {
   "cell_type": "code",
   "execution_count": 53,
   "metadata": {
    "id": "y_PepJufGX1s"
   },
   "outputs": [],
   "source": [
    "# Defining a function to generate classification report and print model accuracy and confusion matrix \n",
    "# for each type of model on train and test data.\n",
    "\n",
    "from sklearn.metrics import confusion_matrix, accuracy_score, classification_report\n",
    "import time\n",
    "sns.set_style('darkgrid')\n",
    "%matplotlib inline\n",
    "\n",
    "def evaluate(model, X_train, X_test, y_train, y_test, duration):\n",
    "    y_test_pred = model.predict(X_test)\n",
    "    y_train_pred = model.predict(X_train)\n",
    "\n",
    "    print('{}'.format('\\033[1m'))\n",
    "    print(\"TRAINIG RESULTS: \\n===============================\")\n",
    "    clf_report = pd.DataFrame(classification_report(y_train, y_train_pred, output_dict=True))\n",
    "    print(f\"CONFUSION MATRIX:\\n{confusion_matrix(y_train, y_train_pred)}\")\n",
    "    print(f\"ACCURACY SCORE:\\n{accuracy_score(y_train, y_train_pred):.4f}\")\n",
    "    print(f\"CLASSIFICATION REPORT:\\n{clf_report}\")\n",
    "    print(\"\\n\")\n",
    "\n",
    "    print(\"TESTING RESULTS: \\n===============================\")\n",
    "    clf_report = pd.DataFrame(classification_report(y_test, y_test_pred, output_dict=True))\n",
    "    print(f\"CONFUSION MATRIX:\\n{confusion_matrix(y_test, y_test_pred)}\")\n",
    "    print(f\"ACCURACY SCORE:\\n{accuracy_score(y_test, y_test_pred):.4f}\")\n",
    "    print(f\"CLASSIFICATION REPORT:\\n{clf_report}\")\n",
    "    print(\"\\n\")\n",
    "    print(\"TIME ELAPSED : \", duration)"
   ]
  },
  {
   "cell_type": "code",
   "execution_count": 54,
   "metadata": {
    "colab": {
     "base_uri": "https://localhost:8080/"
    },
    "id": "RNP-RN21sE3W",
    "outputId": "67acd2b4-6dcc-4cf0-8e10-ef3cdd29d533"
   },
   "outputs": [
    {
     "name": "stdout",
     "output_type": "stream",
     "text": [
      "MODEL : Decision Tree \n",
      "\n",
      "\u001b[1m\n",
      "TRAINIG RESULTS: \n",
      "===============================\n",
      "CONFUSION MATRIX:\n",
      "[[3601   13]\n",
      " [   7 3622]]\n",
      "ACCURACY SCORE:\n",
      "0.9972\n",
      "CLASSIFICATION REPORT:\n",
      "                     0            1  accuracy    macro avg  weighted avg\n",
      "precision     0.998060     0.996424  0.997239     0.997242      0.997240\n",
      "recall        0.996403     0.998071  0.997239     0.997237      0.997239\n",
      "f1-score      0.997231     0.997247  0.997239     0.997239      0.997239\n",
      "support    3614.000000  3629.000000  0.997239  7243.000000   7243.000000\n",
      "\n",
      "\n",
      "TESTING RESULTS: \n",
      "===============================\n",
      "CONFUSION MATRIX:\n",
      "[[1223  337]\n",
      " [  98 1447]]\n",
      "ACCURACY SCORE:\n",
      "0.8599\n",
      "CLASSIFICATION REPORT:\n",
      "                     0            1  accuracy    macro avg  weighted avg\n",
      "precision     0.925814     0.811099  0.859903     0.868456      0.868733\n",
      "recall        0.783974     0.936570  0.859903     0.860272      0.859903\n",
      "f1-score      0.849011     0.869330  0.859903     0.859170      0.859121\n",
      "support    1560.000000  1545.000000  0.859903  3105.000000   3105.000000\n",
      "\n",
      "\n",
      "TIME ELAPSED :  0.0370023250579834\n"
     ]
    }
   ],
   "source": [
    "# invoking the decision tree classifier function. Using 'entropy' method of finding the split columns. Other option \n",
    "# could be gini index.  Restricting the depth of the tree to 5 (no particular reason for selecting this)\n",
    "from sklearn.tree import DecisionTreeClassifier\n",
    "\n",
    "start = time.time()\n",
    "\n",
    "model_entropy=DecisionTreeClassifier(criterion='entropy')\n",
    "model_entropy.fit(X_train, y_train)\n",
    "\n",
    "end = time.time()  #note the end time\n",
    "    \n",
    "duration = end - start  # calculate the total duration\n",
    "\n",
    "print(\"MODEL : Decision Tree \\n\")\n",
    "evaluate(model_entropy, X_train, X_test, y_train, y_test,duration)\n",
    "\n"
   ]
  },
  {
   "cell_type": "code",
   "execution_count": 55,
   "metadata": {
    "id": "p81inQJrczxY"
   },
   "outputs": [],
   "source": [
    "scores = {\n",
    "    'Decision Tree': {\n",
    "        'Train': accuracy_score(y_train, model_entropy.predict(X_train)),\n",
    "        'Test': accuracy_score(y_test, model_entropy.predict(X_test)),\n",
    "    },\n",
    "}"
   ]
  },
  {
   "cell_type": "markdown",
   "metadata": {
    "id": "jSHJPIVgK9lc"
   },
   "source": [
    "**Pruning Decision Tree Classifier:**\n",
    "\n",
    "Overfitting is one of the major problem for every model in machine learning. If model is overfitted it will poorly generalized to new samples. To avoid decision tree from overfitting we remove the branches that make use of features having low importance. This method is called as Pruning or post-pruning. This way we will reduce the complexity of tree, and hence imroves predictive accuracy by the reduction of overfitting."
   ]
  },
  {
   "cell_type": "code",
   "execution_count": 56,
   "metadata": {
    "colab": {
     "base_uri": "https://localhost:8080/"
    },
    "id": "DKB7e8-usiBr",
    "outputId": "87a36332-6518-4615-9f10-51dc701366cc"
   },
   "outputs": [
    {
     "name": "stdout",
     "output_type": "stream",
     "text": [
      "MODEL : Pruned Decision Tree \n",
      "\n",
      "\u001b[1m\n",
      "TRAINIG RESULTS: \n",
      "===============================\n",
      "CONFUSION MATRIX:\n",
      "[[2506 1108]\n",
      " [ 810 2819]]\n",
      "ACCURACY SCORE:\n",
      "0.7352\n",
      "CLASSIFICATION REPORT:\n",
      "                     0            1  accuracy    macro avg  weighted avg\n",
      "precision     0.755730     0.717851  0.735193     0.736790      0.736751\n",
      "recall        0.693414     0.776798  0.735193     0.735106      0.735193\n",
      "f1-score      0.723232     0.746162  0.735193     0.734697      0.734721\n",
      "support    3614.000000  3629.000000  0.735193  7243.000000   7243.000000\n",
      "\n",
      "\n",
      "TESTING RESULTS: \n",
      "===============================\n",
      "CONFUSION MATRIX:\n",
      "[[1122  438]\n",
      " [ 374 1171]]\n",
      "ACCURACY SCORE:\n",
      "0.7385\n",
      "CLASSIFICATION REPORT:\n",
      "                     0            1  accuracy    macro avg  weighted avg\n",
      "precision     0.750000     0.727781  0.738486     0.738891      0.738944\n",
      "recall        0.719231     0.757929  0.738486     0.738580      0.738486\n",
      "f1-score      0.734293     0.742549  0.738486     0.738421      0.738401\n",
      "support    1560.000000  1545.000000  0.738486  3105.000000   3105.000000\n",
      "\n",
      "\n",
      "TIME ELAPSED :  0.020000934600830078\n"
     ]
    }
   ],
   "source": [
    "clf_pruned = DecisionTreeClassifier(criterion = \"entropy\", random_state = 100,\n",
    "                               max_depth=3, min_samples_leaf=5)\n",
    "start = time.time()\n",
    "clf_pruned.fit(X_train, y_train)\n",
    "\n",
    "end = time.time()  #note the end time\n",
    "    \n",
    "duration = end - start  # calculate the total duration\n",
    "print(\"MODEL : Pruned Decision Tree \\n\")\n",
    "\n",
    "evaluate(clf_pruned, X_train, X_test, y_train, y_test,duration)"
   ]
  },
  {
   "cell_type": "markdown",
   "metadata": {
    "id": "6crOQ2THOCNb"
   },
   "source": [
    "When the tree is regularaised, overfitting is reduced, but there is no increase in accuracy"
   ]
  },
  {
   "cell_type": "code",
   "execution_count": 57,
   "metadata": {
    "id": "Ytl9Fqy0dUfR"
   },
   "outputs": [],
   "source": [
    "scores = {\n",
    "    'Decision Tree Pruned': {\n",
    "        'Train': accuracy_score(y_train, clf_pruned.predict(X_train)),\n",
    "        'Test': accuracy_score(y_test, clf_pruned.predict(X_test)),\n",
    "    },\n",
    "}"
   ]
  },
  {
   "cell_type": "code",
   "execution_count": 58,
   "metadata": {
    "id": "9JLPo_w0sn3o"
   },
   "outputs": [],
   "source": [
    "from IPython.display import Image  \n",
    "#import pydotplus as pydot\n",
    "from sklearn import tree\n",
    "from os import system\n",
    "from sklearn.tree import export_graphviz \n",
    "from IPython.display import Image  \n",
    "import graphviz\n",
    "\n",
    "xvar = X_sm\n",
    "feature_cols = xvar.columns"
   ]
  },
  {
   "cell_type": "code",
   "execution_count": 59,
   "metadata": {
    "colab": {
     "base_uri": "https://localhost:8080/",
     "height": 510
    },
    "id": "mRnTskLaNwr8",
    "outputId": "c1405713-6df2-4b0e-f694-1cd084c83d7c"
   },
   "outputs": [
    {
     "data": {
      "text/html": [
       "<div>\n",
       "<style scoped>\n",
       "    .dataframe tbody tr th:only-of-type {\n",
       "        vertical-align: middle;\n",
       "    }\n",
       "\n",
       "    .dataframe tbody tr th {\n",
       "        vertical-align: top;\n",
       "    }\n",
       "\n",
       "    .dataframe thead th {\n",
       "        text-align: right;\n",
       "    }\n",
       "</style>\n",
       "<table border=\"1\" class=\"dataframe\">\n",
       "  <thead>\n",
       "    <tr style=\"text-align: right;\">\n",
       "      <th></th>\n",
       "      <th>0</th>\n",
       "    </tr>\n",
       "  </thead>\n",
       "  <tbody>\n",
       "    <tr>\n",
       "      <th>TechSupport</th>\n",
       "      <td>0.504020</td>\n",
       "    </tr>\n",
       "    <tr>\n",
       "      <th>tenure</th>\n",
       "      <td>0.265204</td>\n",
       "    </tr>\n",
       "    <tr>\n",
       "      <th>InternetService</th>\n",
       "      <td>0.230776</td>\n",
       "    </tr>\n",
       "    <tr>\n",
       "      <th>MultipleLines</th>\n",
       "      <td>0.000000</td>\n",
       "    </tr>\n",
       "    <tr>\n",
       "      <th>OnlineSecurity</th>\n",
       "      <td>0.000000</td>\n",
       "    </tr>\n",
       "    <tr>\n",
       "      <th>OnlineBackup</th>\n",
       "      <td>0.000000</td>\n",
       "    </tr>\n",
       "    <tr>\n",
       "      <th>DeviceProtection</th>\n",
       "      <td>0.000000</td>\n",
       "    </tr>\n",
       "    <tr>\n",
       "      <th>StreamingTV</th>\n",
       "      <td>0.000000</td>\n",
       "    </tr>\n",
       "    <tr>\n",
       "      <th>StreamingMovies</th>\n",
       "      <td>0.000000</td>\n",
       "    </tr>\n",
       "    <tr>\n",
       "      <th>PaymentMethod</th>\n",
       "      <td>0.000000</td>\n",
       "    </tr>\n",
       "    <tr>\n",
       "      <th>MonthlyCharges</th>\n",
       "      <td>0.000000</td>\n",
       "    </tr>\n",
       "    <tr>\n",
       "      <th>SeniorCitizen_1</th>\n",
       "      <td>0.000000</td>\n",
       "    </tr>\n",
       "    <tr>\n",
       "      <th>Partner_Yes</th>\n",
       "      <td>0.000000</td>\n",
       "    </tr>\n",
       "    <tr>\n",
       "      <th>Dependents_Yes</th>\n",
       "      <td>0.000000</td>\n",
       "    </tr>\n",
       "    <tr>\n",
       "      <th>PaperlessBilling_Yes</th>\n",
       "      <td>0.000000</td>\n",
       "    </tr>\n",
       "  </tbody>\n",
       "</table>\n",
       "</div>"
      ],
      "text/plain": [
       "                             0\n",
       "TechSupport           0.504020\n",
       "tenure                0.265204\n",
       "InternetService       0.230776\n",
       "MultipleLines         0.000000\n",
       "OnlineSecurity        0.000000\n",
       "OnlineBackup          0.000000\n",
       "DeviceProtection      0.000000\n",
       "StreamingTV           0.000000\n",
       "StreamingMovies       0.000000\n",
       "PaymentMethod         0.000000\n",
       "MonthlyCharges        0.000000\n",
       "SeniorCitizen_1       0.000000\n",
       "Partner_Yes           0.000000\n",
       "Dependents_Yes        0.000000\n",
       "PaperlessBilling_Yes  0.000000"
      ]
     },
     "execution_count": 59,
     "metadata": {},
     "output_type": "execute_result"
    }
   ],
   "source": [
    "## Calculating feature importance\n",
    "\n",
    "feat_importance = clf_pruned.tree_.compute_feature_importances(normalize=False)\n",
    "\n",
    "feat_imp_dict = dict(zip(feature_cols, clf_pruned.feature_importances_))\n",
    "feat_imp = pd.DataFrame.from_dict(feat_imp_dict, orient='index')\n",
    "feat_imp.sort_values(by=0, ascending=False)"
   ]
  },
  {
   "cell_type": "code",
   "execution_count": 60,
   "metadata": {
    "colab": {
     "base_uri": "https://localhost:8080/",
     "height": 334
    },
    "id": "5acT5X9Ss9wm",
    "outputId": "5b1c0724-8b93-49e0-a688-8ce722e14bae"
   },
   "outputs": [
    {
     "data": {
      "image/png": "[encoded data removed]",
      "text/plain": [
       "<IPython.core.display.Image object>"
      ]
     },
     "metadata": {},
     "output_type": "display_data"
    }
   ],
   "source": [
    "df1_Tree_File = open('Churn_tree.dot','w')\n",
    "dot_data = tree.export_graphviz(clf_pruned, out_file=df1_Tree_File, feature_names = feature_cols, class_names = ['0','1'])\n",
    "\n",
    "df1_Tree_File.close()\n",
    "\n",
    "system(\"dot -Tpng Churn_tree.dot -o Churn_tree.png\")\n",
    "display(Image(\"Churn_tree.png\"))\n"
   ]
  },
  {
   "cell_type": "markdown",
   "metadata": {
    "id": "NxTLR1E_TJoD"
   },
   "source": [
    "From the feature importance dataframe we can infer that Tech Support, tenure and Internet Service features has impact on the Churn variable."
   ]
  },
  {
   "cell_type": "markdown",
   "metadata": {
    "id": "SPGqGbnyJH3H"
   },
   "source": [
    "## **Bagging Algorithms**\n",
    "\n",
    "Bootstrap Aggregation or bagging involves taking multiple samples from your training dataset (with replacement) and training a model for each sample.\n",
    "\n",
    "The final output prediction is averaged across the predictions of all of the sub-models.\n",
    "\n",
    "**BaggingClassifier:**\n",
    "\n",
    "A Bagging classifier is an ensemble meta-estimator that fits base classifiers each on random subsets of the original dataset and then aggregate their individual predictions (either by voting or by averaging) to form a final prediction. Such a meta-estimator can typically be used as a way to reduce the variance of a black-box estimator (e.g., a decision tree), by introducing randomization into its construction procedure and then making an ensemble out of it.\n",
    "\n",
    "If samples are drawn with replacement, then the method is known as Bagging. "
   ]
  },
  {
   "cell_type": "code",
   "execution_count": 61,
   "metadata": {
    "colab": {
     "base_uri": "https://localhost:8080/"
    },
    "id": "jKlvyQxFIUR5",
    "outputId": "87fe6adb-e57f-423b-ebf0-6432fc34a9c6"
   },
   "outputs": [
    {
     "name": "stdout",
     "output_type": "stream",
     "text": [
      "MODEL :Bagging Classifier \n",
      "\n",
      "\u001b[1m\n",
      "TRAINIG RESULTS: \n",
      "===============================\n",
      "CONFUSION MATRIX:\n",
      "[[3599   15]\n",
      " [   5 3624]]\n",
      "ACCURACY SCORE:\n",
      "0.9972\n",
      "CLASSIFICATION REPORT:\n",
      "                     0            1  accuracy    macro avg  weighted avg\n",
      "precision     0.998613     0.995878  0.997239     0.997245      0.997242\n",
      "recall        0.995849     0.998622  0.997239     0.997236      0.997239\n",
      "f1-score      0.997229     0.997248  0.997239     0.997239      0.997239\n",
      "support    3614.000000  3629.000000  0.997239  7243.000000   7243.000000\n",
      "\n",
      "\n",
      "TESTING RESULTS: \n",
      "===============================\n",
      "CONFUSION MATRIX:\n",
      "[[1286  274]\n",
      " [  81 1464]]\n",
      "ACCURACY SCORE:\n",
      "0.8857\n",
      "CLASSIFICATION REPORT:\n",
      "                     0            1  accuracy    macro avg  weighted avg\n",
      "precision     0.940746     0.842348  0.885668     0.891547      0.891785\n",
      "recall        0.824359     0.947573  0.885668     0.885966      0.885668\n",
      "f1-score      0.878715     0.891867  0.885668     0.885291      0.885260\n",
      "support    1560.000000  1545.000000  0.885668  3105.000000   3105.000000\n",
      "\n",
      "\n",
      "TIME ELAPSED :  25.385452032089233\n"
     ]
    }
   ],
   "source": [
    "from sklearn.ensemble import BaggingClassifier\n",
    "from sklearn.tree import DecisionTreeClassifier\n",
    "\n",
    "tree = DecisionTreeClassifier()\n",
    "bagging_clf = BaggingClassifier(base_estimator=tree, n_estimators=1500, random_state=42)\n",
    "start = time.time()\n",
    "\n",
    "bagging_clf.fit(X_train, y_train)\n",
    "\n",
    "end = time.time()  #note the end time\n",
    "    \n",
    "duration = end - start  # calculate the total duration\n",
    "print(\"MODEL :Bagging Classifier \\n\")\n",
    "evaluate(bagging_clf, X_train, X_test, y_train, y_test,duration)"
   ]
  },
  {
   "cell_type": "code",
   "execution_count": 62,
   "metadata": {
    "id": "lAXLUg--dICO"
   },
   "outputs": [],
   "source": [
    "scores = {\n",
    "    'Bagging Classifier': {\n",
    "        'Train': accuracy_score(y_train, bagging_clf.predict(X_train)),\n",
    "        'Test': accuracy_score(y_test, bagging_clf.predict(X_test)),\n",
    "    },\n",
    "}"
   ]
  },
  {
   "cell_type": "markdown",
   "metadata": {
    "id": "_tJqL2LuUtQK"
   },
   "source": [
    "## **Random Forest:**\n",
    "\n",
    "A random forest is a meta estimator that fits a number of decision tree classifiers on various sub-samples of the dataset and uses averaging to improve the predictive accuracy and control over-fitting.\n",
    "\n",
    "The sub-sample size is always the same as the original input sample size but the samples are drawn with replacement if bootstrap=True (default)."
   ]
  },
  {
   "cell_type": "code",
   "execution_count": 63,
   "metadata": {
    "colab": {
     "base_uri": "https://localhost:8080/"
    },
    "id": "GC_pgm6VWHB0",
    "outputId": "3a60dd95-8527-4c5b-b2a6-35f1237c2f61"
   },
   "outputs": [
    {
     "name": "stdout",
     "output_type": "stream",
     "text": [
      "MODEL :Random Forest \n",
      "\n",
      "\u001b[1m\n",
      "TRAINIG RESULTS: \n",
      "===============================\n",
      "CONFUSION MATRIX:\n",
      "[[3599   15]\n",
      " [   5 3624]]\n",
      "ACCURACY SCORE:\n",
      "0.9972\n",
      "CLASSIFICATION REPORT:\n",
      "                     0            1  accuracy    macro avg  weighted avg\n",
      "precision     0.998613     0.995878  0.997239     0.997245      0.997242\n",
      "recall        0.995849     0.998622  0.997239     0.997236      0.997239\n",
      "f1-score      0.997229     0.997248  0.997239     0.997239      0.997239\n",
      "support    3614.000000  3629.000000  0.997239  7243.000000   7243.000000\n",
      "\n",
      "\n",
      "TESTING RESULTS: \n",
      "===============================\n",
      "CONFUSION MATRIX:\n",
      "[[1299  261]\n",
      " [  83 1462]]\n",
      "ACCURACY SCORE:\n",
      "0.8892\n",
      "CLASSIFICATION REPORT:\n",
      "                     0            1  accuracy    macro avg  weighted avg\n",
      "precision     0.939942     0.848520  0.889211     0.894231      0.894452\n",
      "recall        0.832692     0.946278  0.889211     0.889485      0.889211\n",
      "f1-score      0.883073     0.894737  0.889211     0.888905      0.888877\n",
      "support    1560.000000  1545.000000  0.889211  3105.000000   3105.000000\n",
      "\n",
      "\n",
      "TIME ELAPSED :  7.113406658172607\n"
     ]
    }
   ],
   "source": [
    "from sklearn.ensemble import RandomForestClassifier\n",
    "\n",
    "rf_clf = RandomForestClassifier(random_state=42, n_estimators=1000)\n",
    "start = time.time()\n",
    "\n",
    "rf_clf.fit(X_train, y_train)\n",
    "\n",
    "end = time.time()  #note the end time\n",
    "    \n",
    "duration = end - start  # calculate the total duration\n",
    "print(\"MODEL :Random Forest \\n\")\n",
    "evaluate(rf_clf, X_train, X_test, y_train, y_test,duration)"
   ]
  },
  {
   "cell_type": "code",
   "execution_count": 64,
   "metadata": {
    "id": "VS_TXVWedhgO"
   },
   "outputs": [],
   "source": [
    "scores['Random Forest'] = {\n",
    "        'Train': accuracy_score(y_train, rf_clf.predict(X_train)),\n",
    "        'Test': accuracy_score(y_test, rf_clf.predict(X_test)),\n",
    "    }"
   ]
  },
  {
   "cell_type": "markdown",
   "metadata": {
    "id": "kj7sYBe2XpXn"
   },
   "source": [
    "## **Boosting Algorithms**\n",
    "\n",
    "Boosting ensemble algorithms creates a sequence of models that attempt to correct the mistakes of the models before them in the sequence.\n",
    "\n",
    "Once created, the models make predictions which may be weighted by their demonstrated accuracy and the results are combined to create a final output prediction.\n",
    "\n",
    "The two most common boosting ensemble machine learning algorithms are:\n",
    "\n",
    "**AdaBoost**\n",
    "\n",
    "**Stochastic Gradient Boosting** \n",
    "\n",
    "### **AdaBoost**\n",
    "\n",
    "AdaBoost was perhaps the first successful boosting ensemble algorithm. It generally works by weighting instances in the dataset by how easy or difficult they are to classify, allowing the algorithm to pay or or less attention to them in the construction of subsequent models.\n",
    "\n",
    "You can construct an AdaBoost model for classification using the AdaBoostClassifier class.\n",
    "\n",
    "### **AdaBoost Classifier:**\n",
    "\n",
    "An AdaBoost classifier is a meta-estimator that begins by fitting a classifier on the original dataset and then fits additional copies of the classifier on the same dataset but where the weights of incorrectly classified instances are adjusted such that subsequent"
   ]
  },
  {
   "cell_type": "code",
   "execution_count": 65,
   "metadata": {
    "colab": {
     "base_uri": "https://localhost:8080/"
    },
    "id": "L-SO57oNXmZp",
    "outputId": "2eb0116e-3212-4356-d030-916078374e3d"
   },
   "outputs": [
    {
     "name": "stdout",
     "output_type": "stream",
     "text": [
      "MODEL : AdaBoost \n",
      "\n",
      "\u001b[1m\n",
      "TRAINIG RESULTS: \n",
      "===============================\n",
      "CONFUSION MATRIX:\n",
      "[[2691  923]\n",
      " [ 759 2870]]\n",
      "ACCURACY SCORE:\n",
      "0.7678\n",
      "CLASSIFICATION REPORT:\n",
      "                     0            1  accuracy    macro avg  weighted avg\n",
      "precision     0.780000     0.756657  0.767776     0.768328      0.768304\n",
      "recall        0.744604     0.790851  0.767776     0.767728      0.767776\n",
      "f1-score      0.761891     0.773376  0.767776     0.767634      0.767646\n",
      "support    3614.000000  3629.000000  0.767776  7243.000000   7243.000000\n",
      "\n",
      "\n",
      "TESTING RESULTS: \n",
      "===============================\n",
      "CONFUSION MATRIX:\n",
      "[[1182  378]\n",
      " [ 343 1202]]\n",
      "ACCURACY SCORE:\n",
      "0.7678\n",
      "CLASSIFICATION REPORT:\n",
      "                     0            1  accuracy    macro avg  weighted avg\n",
      "precision     0.775082     0.760759  0.767794     0.767921      0.767955\n",
      "recall        0.757692     0.777994  0.767794     0.767843      0.767794\n",
      "f1-score      0.766288     0.769280  0.767794     0.767784      0.767777\n",
      "support    1560.000000  1545.000000  0.767794  3105.000000   3105.000000\n",
      "\n",
      "\n",
      "TIME ELAPSED :  0.25501465797424316\n"
     ]
    }
   ],
   "source": [
    "from sklearn.ensemble import AdaBoostClassifier\n",
    "\n",
    "ada_boost_clf = AdaBoostClassifier(n_estimators=30)\n",
    "start = time.time()\n",
    "ada_boost_clf.fit(X_train, y_train)\n",
    "\n",
    "end = time.time()  #note the end time\n",
    "    \n",
    "duration = end - start  # calculate the total duration\n",
    "\n",
    "print(\"MODEL : AdaBoost \\n\")\n",
    "evaluate(ada_boost_clf, X_train, X_test, y_train, y_test,duration)"
   ]
  },
  {
   "cell_type": "code",
   "execution_count": 66,
   "metadata": {
    "id": "RG93LXVgdnn1"
   },
   "outputs": [],
   "source": [
    "scores['AdaBoost'] = {\n",
    "        'Train': accuracy_score(y_train, ada_boost_clf.predict(X_train)),\n",
    "        'Test': accuracy_score(y_test, ada_boost_clf.predict(X_test)),\n",
    "    }"
   ]
  },
  {
   "cell_type": "markdown",
   "metadata": {
    "id": "UAHMpPcVYvE-"
   },
   "source": [
    "### **Gradient Boosting Classifier:**\n",
    "\n",
    "GB builds an additive model in a forward stage-wise fashion; it allows for the optimization of arbitrary differentiable loss functions. In each stage n_classes_ regression trees are fit on the negative gradient of the binomial or multinomial deviance loss function. Binary classification is a special case where only a single regression tree is induced."
   ]
  },
  {
   "cell_type": "code",
   "execution_count": 67,
   "metadata": {
    "colab": {
     "base_uri": "https://localhost:8080/"
    },
    "id": "s0GYS-XlZEDl",
    "outputId": "2f6fd870-af2a-4877-95ba-9abe9afea734"
   },
   "outputs": [
    {
     "name": "stdout",
     "output_type": "stream",
     "text": [
      "MODEL : Gradient Boost \n",
      "\n",
      "\u001b[1m\n",
      "TRAINIG RESULTS: \n",
      "===============================\n",
      "CONFUSION MATRIX:\n",
      "[[2722  892]\n",
      " [ 614 3015]]\n",
      "ACCURACY SCORE:\n",
      "0.7921\n",
      "CLASSIFICATION REPORT:\n",
      "                     0            1  accuracy    macro avg  weighted avg\n",
      "precision     0.815947     0.771692  0.792075     0.793820      0.793774\n",
      "recall        0.753182     0.830807  0.792075     0.791995      0.792075\n",
      "f1-score      0.783309     0.800159  0.792075     0.791734      0.791752\n",
      "support    3614.000000  3629.000000  0.792075  7243.000000   7243.000000\n",
      "\n",
      "\n",
      "TESTING RESULTS: \n",
      "===============================\n",
      "CONFUSION MATRIX:\n",
      "[[1164  396]\n",
      " [ 313 1232]]\n",
      "ACCURACY SCORE:\n",
      "0.7717\n",
      "CLASSIFICATION REPORT:\n",
      "                     0            1  accuracy    macro avg  weighted avg\n",
      "precision     0.788084     0.756757  0.771659     0.772420      0.772496\n",
      "recall        0.746154     0.797411  0.771659     0.771782      0.771659\n",
      "f1-score      0.766546     0.776552  0.771659     0.771549      0.771525\n",
      "support    1560.000000  1545.000000  0.771659  3105.000000   3105.000000\n",
      "\n",
      "\n",
      "TIME ELAPSED :  0.8500485420227051\n"
     ]
    }
   ],
   "source": [
    "from sklearn.ensemble import GradientBoostingClassifier\n",
    "\n",
    "grad_boost_clf = GradientBoostingClassifier(n_estimators=100, random_state=42)\n",
    "start = time.time()\n",
    "grad_boost_clf.fit(X_train, y_train)\n",
    "end = time.time()  #note the end time\n",
    "    \n",
    "duration = end - start  # calculate the total duration\n",
    "print(\"MODEL : Gradient Boost \\n\")\n",
    "evaluate(grad_boost_clf, X_train, X_test, y_train, y_test,duration)"
   ]
  },
  {
   "cell_type": "code",
   "execution_count": 68,
   "metadata": {
    "id": "LgppZbk1dzpb"
   },
   "outputs": [],
   "source": [
    "scores['Gradient Boosting'] = {\n",
    "        'Train': accuracy_score(y_train, grad_boost_clf.predict(X_train)),\n",
    "        'Test': accuracy_score(y_test, grad_boost_clf.predict(X_test)),\n",
    "    }"
   ]
  },
  {
   "cell_type": "markdown",
   "metadata": {
    "id": "7tfV8nbVkPea"
   },
   "source": [
    "### **XGBoost**\n",
    "XGBoost is short for **“Extreme Gradient Boosting,”**  is an implementation of gradient boosted decision trees designed for speed and performance that is dominative competitive machine learning.\n",
    "\n",
    "The main benefit of the XGBoost implementation is computational efficiency and often better model performance."
   ]
  },
  {
   "cell_type": "code",
   "execution_count": 69,
   "metadata": {
    "colab": {
     "base_uri": "https://localhost:8080/"
    },
    "id": "eRiavnOecMTH",
    "outputId": "214877c2-407e-4b82-959e-09cf0a2d7a70"
   },
   "outputs": [
    {
     "name": "stdout",
     "output_type": "stream",
     "text": [
      "MODEL : XGBoost \n",
      "\n",
      "\u001b[1m\n",
      "TRAINIG RESULTS: \n",
      "===============================\n",
      "CONFUSION MATRIX:\n",
      "[[3289  325]\n",
      " [ 137 3492]]\n",
      "ACCURACY SCORE:\n",
      "0.9362\n",
      "CLASSIFICATION REPORT:\n",
      "                     0            1  accuracy    macro avg  weighted avg\n",
      "precision     0.960012     0.914855  0.936214     0.937433      0.937386\n",
      "recall        0.910072     0.962249  0.936214     0.936160      0.936214\n",
      "f1-score      0.934375     0.937953  0.936214     0.936164      0.936168\n",
      "support    3614.000000  3629.000000  0.936214  7243.000000   7243.000000\n",
      "\n",
      "\n",
      "TESTING RESULTS: \n",
      "===============================\n",
      "CONFUSION MATRIX:\n",
      "[[1239  321]\n",
      " [ 162 1383]]\n",
      "ACCURACY SCORE:\n",
      "0.8444\n",
      "CLASSIFICATION REPORT:\n",
      "                     0            1  accuracy    macro avg  weighted avg\n",
      "precision     0.884368     0.811620  0.844444     0.847994      0.848170\n",
      "recall        0.794231     0.895146  0.844444     0.844688      0.844444\n",
      "f1-score      0.836879     0.851339  0.844444     0.844109      0.844074\n",
      "support    1560.000000  1545.000000  0.844444  3105.000000   3105.000000\n",
      "\n",
      "\n",
      "TIME ELAPSED :  0.5820331573486328\n"
     ]
    }
   ],
   "source": [
    "from xgboost import XGBClassifier\n",
    "\n",
    "xg_boost_clf = XGBClassifier(n_estimators=100,eval_metric='logloss', random_state=42)\n",
    "start = time.time()\n",
    "xg_boost_clf.fit(X_train, y_train)\n",
    "end = time.time()  #note the end time\n",
    "    \n",
    "duration = end - start  # calculate the total duration\n",
    "print(\"MODEL : XGBoost \\n\")\n",
    "evaluate(xg_boost_clf, X_train, X_test, y_train, y_test,duration)\n"
   ]
  },
  {
   "cell_type": "code",
   "execution_count": 70,
   "metadata": {
    "id": "IBga1vGtd9Rt"
   },
   "outputs": [],
   "source": [
    "scores['XG Boost'] = {\n",
    "        'Train': accuracy_score(y_train, xg_boost_clf.predict(X_train)),\n",
    "        'Test': accuracy_score(y_test, xg_boost_clf.predict(X_test)),\n",
    "    }"
   ]
  },
  {
   "cell_type": "markdown",
   "metadata": {
    "id": "sb_3FNm3lmEL"
   },
   "source": [
    "### **LightGBM**\n",
    "LightGBM, short for Light Gradient Boosted Machine, is a library developed at Microsoft that provides an efficient implementation of the gradient boosting algorithm.\n",
    "\n",
    "The primary benefit of the LightGBM is the changes to the training algorithm that make the process dramatically faster, and in many cases, result in a more effective model."
   ]
  },
  {
   "cell_type": "code",
   "execution_count": 71,
   "metadata": {
    "colab": {
     "base_uri": "https://localhost:8080/"
    },
    "id": "ozQUesQzlpuX",
    "outputId": "58013b45-17e7-44ee-a965-1574a764b361"
   },
   "outputs": [
    {
     "name": "stdout",
     "output_type": "stream",
     "text": [
      "MODEL :LightGBM \n",
      "\n",
      "\u001b[1m\n",
      "TRAINIG RESULTS: \n",
      "===============================\n",
      "CONFUSION MATRIX:\n",
      "[[2987  627]\n",
      " [ 292 3337]]\n",
      "ACCURACY SCORE:\n",
      "0.8731\n",
      "CLASSIFICATION REPORT:\n",
      "                     0            1  accuracy    macro avg  weighted avg\n",
      "precision     0.910948     0.841826  0.873119     0.876387      0.876316\n",
      "recall        0.826508     0.919537  0.873119     0.873023      0.873119\n",
      "f1-score      0.866676     0.878967  0.873119     0.872822      0.872835\n",
      "support    3614.000000  3629.000000  0.873119  7243.000000   7243.000000\n",
      "\n",
      "\n",
      "TESTING RESULTS: \n",
      "===============================\n",
      "CONFUSION MATRIX:\n",
      "[[1201  359]\n",
      " [ 244 1301]]\n",
      "ACCURACY SCORE:\n",
      "0.8058\n",
      "CLASSIFICATION REPORT:\n",
      "                     0            1  accuracy    macro avg  weighted avg\n",
      "precision     0.831142     0.783735  0.805797     0.807438      0.807553\n",
      "recall        0.769872     0.842071  0.805797     0.805971      0.805797\n",
      "f1-score      0.799334     0.811856  0.805797     0.805595      0.805565\n",
      "support    1560.000000  1545.000000  0.805797  3105.000000   3105.000000\n",
      "\n",
      "\n",
      "TIME ELAPSED :  0.13800787925720215\n"
     ]
    }
   ],
   "source": [
    "from lightgbm import LGBMClassifier\n",
    "\n",
    "lgbm_boost_clf = LGBMClassifier(n_estimators=100, random_state=42)\n",
    "start = time.time()\n",
    "lgbm_boost_clf.fit(X_train, y_train)\n",
    "end = time.time()  #note the end time\n",
    "    \n",
    "duration = end - start  # calculate the total duration\n",
    "print(\"MODEL :LightGBM \\n\")\n",
    "evaluate(lgbm_boost_clf, X_train, X_test, y_train, y_test,duration)"
   ]
  },
  {
   "cell_type": "code",
   "execution_count": 72,
   "metadata": {
    "id": "N3EADwbjmM_m"
   },
   "outputs": [],
   "source": [
    "scores['LightGBM'] = {\n",
    "        'Train': accuracy_score(y_train, lgbm_boost_clf.predict(X_train)),\n",
    "        'Test': accuracy_score(y_test, lgbm_boost_clf.predict(X_test)),\n",
    "    }"
   ]
  },
  {
   "cell_type": "markdown",
   "metadata": {
    "id": "3u8T6rkgma5Y"
   },
   "source": [
    "### **CatBoost**\n",
    "CatBoost is a third-party library developed at Yandex that provides an efficient implementation of the gradient boosting algorithm.\n",
    "\n",
    "The primary benefit of the CatBoost (in addition to computational speed improvements) is support for categorical input variables. This gives the library its name CatBoost for “Category Gradient Boosting.”"
   ]
  },
  {
   "cell_type": "code",
   "execution_count": 73,
   "metadata": {
    "colab": {
     "base_uri": "https://localhost:8080/"
    },
    "id": "BtMnM22NmaYH",
    "outputId": "60712551-2f82-4e5d-e889-57e0deba8185"
   },
   "outputs": [
    {
     "name": "stdout",
     "output_type": "stream",
     "text": [
      "MODEL :CatBoost \n",
      "\n",
      "\u001b[1m\n",
      "TRAINIG RESULTS: \n",
      "===============================\n",
      "CONFUSION MATRIX:\n",
      "[[2856  758]\n",
      " [ 490 3139]]\n",
      "ACCURACY SCORE:\n",
      "0.8277\n",
      "CLASSIFICATION REPORT:\n",
      "                     0            1  accuracy    macro avg  weighted avg\n",
      "precision     0.853556     0.805491  0.827696     0.829524      0.829474\n",
      "recall        0.790260     0.864977  0.827696     0.827618      0.827696\n",
      "f1-score      0.820690     0.834175  0.827696     0.827432      0.827446\n",
      "support    3614.000000  3629.000000  0.827696  7243.000000   7243.000000\n",
      "\n",
      "\n",
      "TESTING RESULTS: \n",
      "===============================\n",
      "CONFUSION MATRIX:\n",
      "[[1191  369]\n",
      " [ 298 1247]]\n",
      "ACCURACY SCORE:\n",
      "0.7852\n",
      "CLASSIFICATION REPORT:\n",
      "                     0            1  accuracy    macro avg  weighted avg\n",
      "precision     0.799866     0.771658  0.785185     0.785762      0.785830\n",
      "recall        0.763462     0.807120  0.785185     0.785291      0.785185\n",
      "f1-score      0.781240     0.788991  0.785185     0.785115      0.785097\n",
      "support    1560.000000  1545.000000  0.785185  3105.000000   3105.000000\n",
      "\n",
      "\n",
      "TIME ELAPSED :  0.8120462894439697\n"
     ]
    }
   ],
   "source": [
    "from catboost import CatBoostClassifier\n",
    "\n",
    "cat_boost_clf = CatBoostClassifier(verbose=0, n_estimators=100, random_state=42)\n",
    "start = time.time()\n",
    "cat_boost_clf.fit(X_train, y_train)\n",
    "end = time.time()  #note the end time\n",
    "    \n",
    "duration = end - start  # calculate the total duration\n",
    "print(\"MODEL :CatBoost \\n\")\n",
    "evaluate(cat_boost_clf, X_train, X_test, y_train, y_test,duration)"
   ]
  },
  {
   "cell_type": "code",
   "execution_count": 74,
   "metadata": {
    "id": "COcp4fdtnSaG"
   },
   "outputs": [],
   "source": [
    "scores['CatBoost'] = {\n",
    "        'Train': accuracy_score(y_train, cat_boost_clf.predict(X_train)),\n",
    "        'Test': accuracy_score(y_test, cat_boost_clf.predict(X_test)),\n",
    "    }"
   ]
  },
  {
   "cell_type": "code",
   "execution_count": 75,
   "metadata": {
    "colab": {
     "base_uri": "https://localhost:8080/",
     "height": 516
    },
    "id": "d7LVEwQNnqI8",
    "outputId": "749be9f8-332f-4de9-ee4a-e17d0e5294c2"
   },
   "outputs": [
    {
     "data": {
      "text/plain": [
       "<AxesSubplot:>"
      ]
     },
     "execution_count": 75,
     "metadata": {},
     "output_type": "execute_result"
    },
    {
     "data": {
      "image/png": "[encoded data removed]",
      "text/plain": [
       "<Figure size 1080x576 with 1 Axes>"
      ]
     },
     "metadata": {
      "needs_background": "light"
     },
     "output_type": "display_data"
    }
   ],
   "source": [
    "scores_df = pd.DataFrame(scores)\n",
    "\n",
    "scores_df.plot(kind='bar', figsize=(15, 8))"
   ]
  },
  {
   "cell_type": "code",
   "execution_count": 76,
   "metadata": {
    "id": "s15kbOgskQaf"
   },
   "outputs": [],
   "source": [
    "from sklearn.metrics import f1_score\n",
    "def fit_n_print(model, X_train, X_test, y_train, y_test):  # take the model, train data and test data as input\n",
    "    \n",
    "    start = time.time()  # note the start time \n",
    "\n",
    "    model.fit(X_train, y_train)   # fit the model using the train data\n",
    "\n",
    "    pred = model.predict(X_test)     # model predictions on the test data\n",
    "\n",
    "    acc = accuracy_score(y_test, pred)\n",
    "    f1 = f1_score(y_test, pred, average ='weighted')  # calculate the f1 score value on the test data\n",
    "     \n",
    "    scorer = {'acc' : metrics.make_scorer(metrics.accuracy_score),\n",
    "              'f1_Score' : metrics.make_scorer(metrics.f1_score),\n",
    "              }    # make scorers to be used in cross validation\n",
    "    \n",
    "    cv = cross_validate(model, X_train, y_train, cv=10, scoring = scorer)   # perform cross validation accross 3 metrics\n",
    "    \n",
    "    end = time.time()  #note the end time  \n",
    "    \n",
    "    duration = end - start  # calculate the total duration\n",
    "    \n",
    "    return acc, f1, duration, pred  # return all the metrics along with predictions"
   ]
  },
  {
   "cell_type": "code",
   "execution_count": 77,
   "metadata": {
    "id": "xXEoZobomFnL"
   },
   "outputs": [],
   "source": [
    "# methods and classes for evaluation\n",
    "from sklearn import metrics\n",
    "from sklearn.model_selection import cross_validate\n",
    "import time"
   ]
  },
  {
   "cell_type": "code",
   "execution_count": 78,
   "metadata": {
    "id": "4FkJ8QXyl2_c"
   },
   "outputs": [],
   "source": [
    "import warnings\n",
    "warnings.simplefilter(action='ignore', category=FutureWarning)\n",
    "\n",
    "dt = DecisionTreeClassifier(random_state=2)   \n",
    "br = BaggingClassifier(random_state=2)\n",
    "rf = RandomForestClassifier(random_state=2, n_estimators=100)  # specifying n_estimators to avoid \"future warnings\"\n",
    "gb = GradientBoostingClassifier(n_estimators=100, random_state=2)\n",
    "xgb = XGBClassifier(n_estimators=100,eval_metric='logloss', random_state=2)\n",
    "lgbm = LGBMClassifier(n_estimators=100, random_state=2)\n",
    "cat = CatBoostClassifier(verbose=0, n_estimators=100, random_state=2)\n",
    "\n",
    "\n",
    "result = {}   # Create an empty dictionary to later use to store metrics of each of the models\n",
    "\n",
    "# putting all 7 models in a for loop and appending the results of each of the models to the 'result' dictionary\n",
    "for model, name  in zip([dt, br, rf, gb,xgb, lgbm, cat], ['Decision Tree', 'Bagging Ensemble', \n",
    "                                                    'Random Forest', 'Gradient Boost Ensemble','XGBoost','LightGBM','CatBoost']):\n",
    "    result[name] = fit_n_print(model,X_train, X_test,y_train, y_test)  \n",
    "    # store all the metrics in the result dict, with name as key"
   ]
  },
  {
   "cell_type": "code",
   "execution_count": 79,
   "metadata": {
    "colab": {
     "base_uri": "https://localhost:8080/",
     "height": 294
    },
    "id": "ShQbPg_cp8hM",
    "outputId": "4b264a0a-e4d5-4c0c-e9b3-2b6201063a40"
   },
   "outputs": [
    {
     "data": {
      "text/html": [
       "<div>\n",
       "<style scoped>\n",
       "    .dataframe tbody tr th:only-of-type {\n",
       "        vertical-align: middle;\n",
       "    }\n",
       "\n",
       "    .dataframe tbody tr th {\n",
       "        vertical-align: top;\n",
       "    }\n",
       "\n",
       "    .dataframe thead th {\n",
       "        text-align: right;\n",
       "    }\n",
       "</style>\n",
       "<table border=\"1\" class=\"dataframe\">\n",
       "  <thead>\n",
       "    <tr style=\"text-align: right;\">\n",
       "      <th></th>\n",
       "      <th>Accuracy</th>\n",
       "      <th>f1_Score</th>\n",
       "      <th>Elapsed</th>\n",
       "    </tr>\n",
       "    <tr>\n",
       "      <th>Model</th>\n",
       "      <th></th>\n",
       "      <th></th>\n",
       "      <th></th>\n",
       "    </tr>\n",
       "  </thead>\n",
       "  <tbody>\n",
       "    <tr>\n",
       "      <th>Decision Tree</th>\n",
       "      <td>0.858937</td>\n",
       "      <td>0.858287</td>\n",
       "      <td>0.377022</td>\n",
       "    </tr>\n",
       "    <tr>\n",
       "      <th>Bagging Ensemble</th>\n",
       "      <td>0.873108</td>\n",
       "      <td>0.872884</td>\n",
       "      <td>1.938111</td>\n",
       "    </tr>\n",
       "    <tr>\n",
       "      <th>Random Forest</th>\n",
       "      <td>0.885346</td>\n",
       "      <td>0.885008</td>\n",
       "      <td>8.368479</td>\n",
       "    </tr>\n",
       "    <tr>\n",
       "      <th>Gradient Boost Ensemble</th>\n",
       "      <td>0.771337</td>\n",
       "      <td>0.771199</td>\n",
       "      <td>8.588491</td>\n",
       "    </tr>\n",
       "    <tr>\n",
       "      <th>XGBoost</th>\n",
       "      <td>0.844444</td>\n",
       "      <td>0.844074</td>\n",
       "      <td>5.526316</td>\n",
       "    </tr>\n",
       "    <tr>\n",
       "      <th>LightGBM</th>\n",
       "      <td>0.805797</td>\n",
       "      <td>0.805565</td>\n",
       "      <td>1.469084</td>\n",
       "    </tr>\n",
       "    <tr>\n",
       "      <th>CatBoost</th>\n",
       "      <td>0.782287</td>\n",
       "      <td>0.782216</td>\n",
       "      <td>6.366364</td>\n",
       "    </tr>\n",
       "  </tbody>\n",
       "</table>\n",
       "</div>"
      ],
      "text/plain": [
       "                         Accuracy  f1_Score   Elapsed\n",
       "Model                                                \n",
       "Decision Tree            0.858937  0.858287  0.377022\n",
       "Bagging Ensemble         0.873108  0.872884  1.938111\n",
       "Random Forest            0.885346  0.885008  8.368479\n",
       "Gradient Boost Ensemble  0.771337  0.771199  8.588491\n",
       "XGBoost                  0.844444  0.844074  5.526316\n",
       "LightGBM                 0.805797  0.805565  1.469084\n",
       "CatBoost                 0.782287  0.782216  6.366364"
      ]
     },
     "execution_count": 79,
     "metadata": {},
     "output_type": "execute_result"
    }
   ],
   "source": [
    "result1 = pd.DataFrame(np.array(list(result.values()))[:,:-1],    # make a dataframe out of the metrics from result dictionary \n",
    "                       columns= ['Accuracy', 'f1_Score','Elapsed'],\n",
    "                      index= result.keys())   # use the model names as index\n",
    "\n",
    "result1.index.name = 'Model'   # name the index of the result1 dataframe as 'Model'\n",
    "\n",
    "result1 "
   ]
  },
  {
   "cell_type": "markdown",
   "metadata": {
    "id": "bDp79Jbx4zuq"
   },
   "source": [
    "## **• Select the final best trained model along with your detailed comments for selecting this model.**"
   ]
  },
  {
   "cell_type": "markdown",
   "metadata": {
    "id": "O3y1XvNJrkeH"
   },
   "source": [
    "### **Random forest out-performed all the other models**\n",
    "\n",
    "- For this dataset, **Random forest and Bagging models** are the best among all the other models including the XGBoost, LightGBM, and CatBoost.\n",
    "- Since none of the models are tuned, we cannot judge the winner yet. Because, there are a few key hyper parameters like max depth, number of estimators etc (which is specific to the boosting algorithms),that can turn the table around\n",
    "- One noticeable point is that Decision Tree has given a close performance to Random forest but the time taken was far less even compared to the bagging model which by default has only 10 estimators\n",
    "- The Decision tree model has surprisingly outperformed all the boosting models accross all the metrics including the CV scores\n",
    "- Complicated models do not always guarantee better performance."
   ]
  },
  {
   "cell_type": "markdown",
   "metadata": {
    "id": "OTCw38g9JatN"
   },
   "source": [
    "**Pickle the selected model for future use.**"
   ]
  },
  {
   "cell_type": "markdown",
   "metadata": {
    "id": "baFwYUNzy4qo"
   },
   "source": [
    "## **Improving the Model**\n",
    "**Handling Data leakage by using cross validation**\n",
    "\n",
    "Data leakage is a big problem in machine learning when developing predictive models.\n",
    "Data leakage is when information from outside the training dataset is used to create the model\n",
    "The goal of predictive modeling is to develop a model that makes accurate predictions on new data, unseen during training.\n",
    "It’s hard because we cannot evaluate the model on something we don’t have.\n",
    "Therefore, we must estimate the performance of the model on unseen data by training it on only some of the data we have and evaluating it on the rest of the data. **We can deal with data leakage by using Cross Validation in Random Forest.**\n",
    "\n",
    "**Hyperparameter Settings:**\n",
    "\n",
    "*   cv = 5 means having a 5-fold cross validation. So dataset is divided into 5 subset. At each iteration, 4 subsets are used in training and the other subset is used as test set. When 5 iteration completed, the model used all samples as both training and test samples.\n",
    "*   n_jobs parameter is used to select how many processors to use. -1 means using all processors.\n",
    "\n",
    "**GridSearchCV provides an easy way for parameter tuning. We can do cross-validation and try different parameters using GridSearchCV.**\n"
   ]
  },
  {
   "cell_type": "code",
   "execution_count": 80,
   "metadata": {
    "colab": {
     "base_uri": "https://localhost:8080/"
    },
    "id": "u80Nx8yJy4Kg",
    "outputId": "3a8046fc-2862-4c2d-dcd7-dc932a0849e8"
   },
   "outputs": [
    {
     "name": "stdout",
     "output_type": "stream",
     "text": [
      "\u001b[1m The best hyper parameters obtained by Grid SearchCV are: {'max_depth': 25, 'n_estimators': 150} \n",
      "\u001b[1m The best accuracy score of the model is: 0.8985323255884543 \n"
     ]
    }
   ],
   "source": [
    "from sklearn.model_selection import GridSearchCV\n",
    "\n",
    "parameters = {'n_estimators':[150,200,250,300], 'max_depth':[15,20,25]}\n",
    "forest = RandomForestClassifier()\n",
    "clf = GridSearchCV(estimator=forest, param_grid=parameters, n_jobs=-1, cv=5)\n",
    "clf.fit(X_sm, y_sm)\n",
    "y_test_pred = clf.predict(X_test)\n",
    "\n",
    "print(\"{} The best hyper parameters obtained by Grid SearchCV are: {} \".format('\\033[1m',clf.best_params_))\n",
    "print(\"{} The best accuracy score of the model is: {} \".format('\\033[1m',clf.best_score_))"
   ]
  },
  {
   "cell_type": "markdown",
   "metadata": {
    "id": "7VNQllBIzRxh"
   },
   "source": [
    "**FINAL MODEL ACCURACY:**\n",
    "\n",
    "We have achieved an overall accuracy of almost 90%. This is the mean cross-validated score of the best_estimator. \n",
    "\n",
    "In the previous random forest, the mean score was approximately 88.5% (99% on training and (88.5% on test). Using GridSearchCV, we improved the model accuracy by 1%."
   ]
  },
  {
   "cell_type": "code",
   "execution_count": 81,
   "metadata": {
    "colab": {
     "base_uri": "https://localhost:8080/",
     "height": 417
    },
    "id": "tikwqUY441BL",
    "outputId": "394d37b2-cf89-4ec0-a0ef-bb316aabb5d0"
   },
   "outputs": [
    {
     "name": "stdout",
     "output_type": "stream",
     "text": [
      "The Confusion Matrix :\n",
      " [[1549   11]\n",
      " [   2 1543]]\n"
     ]
    },
    {
     "data": {
      "text/plain": [
       "Text(0.5, 21.5, 'Actual label')"
      ]
     },
     "execution_count": 81,
     "metadata": {},
     "output_type": "execute_result"
    },
    {
     "data": {
      "image/png": "[encoded data removed]",
      "text/plain": [
       "<Figure size 360x360 with 2 Axes>"
      ]
     },
     "metadata": {
      "needs_background": "light"
     },
     "output_type": "display_data"
    }
   ],
   "source": [
    "# REPRESENTING THE MODEL CLASSIFICATION IN TERMS OF CONFUSION MATRIX.\n",
    "\n",
    "cm = metrics.confusion_matrix(y_test,y_test_pred)\n",
    "print('The Confusion Matrix :\\n',cm)\n",
    "#print(f\"CONFUSION MATRIX:\\n{confusion_matrix(y_test, y_test_pred)}\")\n",
    "\n",
    "colormap = plt.cm.binary\n",
    "plt.figure(figsize=(5,5))\n",
    "sns.heatmap(cm, xticklabels=['Churn', 'Not Churn'],yticklabels= ['Churn', 'Not Churn'], cmap=colormap, linecolor='black', linewidths =0.5,annot=True, fmt='g')\n",
    "\n",
    "plt.title('Confusion matrix')\n",
    "plt.ylabel('Predicted label')\n",
    "plt.xlabel('Actual label')"
   ]
  },
  {
   "cell_type": "markdown",
   "metadata": {
    "id": "ctFFdOMJ65I3"
   },
   "source": [
    "The black cells on the diagonal represent the correct classifications, the white cells represent the incorrect classifications. As we can see, this gives a much more detailed overview of how our model is performing.\n",
    "\n",
    "In the general case of a binary classification, we use the following terms for the 4 boxes:\n",
    "\n",
    "**True Positive (TP):** The model predicted 1549 customers will Churn and who actually Churn.\n",
    "\n",
    "**True Negative (TN)**: The model predicted 1543 customers will NOT Churn and who actually did NOT Churn.\n",
    "\n",
    "**False Positive (FP)**: The model predicted  11 customers will Churn and who actually did NOT Churn. (TYPE I error)\n",
    "\n",
    "**False Negative (FN):** The model predicted 2 customers will NOT Churn and who actually Churn.(TYPE II error)"
   ]
  },
  {
   "cell_type": "markdown",
   "metadata": {
    "id": "Y3R-it6A5tXB"
   },
   "source": [
    "# **6. Conclusion and improvisation:** \n",
    "\n",
    "• Write your conclusion on the results.\n",
    "\n",
    "• Detailed suggestions or improvements or on quality, quantity, variety, velocity, veracity etc. on the data points collected by the telecom operator to perform a better data analysis in future."
   ]
  },
  {
   "cell_type": "markdown",
   "metadata": {
    "id": "DicOzm2s9nji"
   },
   "source": [
    "# **Conclusion:**\n",
    "\n",
    "## **Final Model uses : Random Forest Classifier**\n",
    "\n",
    "## **Model Accuracy : 89 %** \n",
    "\n",
    "*   7 different Models were created to evaluate the model performance which resulted in the following accuracy scores.\n",
    "\n",
    "\n",
    "1.   Decision Tree\t0.858937\n",
    "2.   Bagging Ensemble\t0.872464\n",
    "3.   Random Forest\t0.885346\n",
    "4.   Gradient Boost Ensemble\t0.771337\n",
    "5.   XGBoost\t0.771014\n",
    "6.   LightGBM\t0.805475\n",
    "7.   CatBoost\t0.782287\n",
    "\n",
    "*   From the analysis of various models, **Random Forest Classisfier has performed well** on the dataset with more accuracy and f1 score.\n",
    "\n",
    "*   **GridsearchCV is used to tune the hyper-parameters** and cr**oss validation is also done** to avoid data leakage. The final model is tested on the test data and found to perform well.\n",
    "\n",
    "*   We can also try a wider range of parameters in GridSearchCV because a little adjustment in a parameter may slighlty increase the model.\n",
    "\n",
    "\n",
    "*   From random forest algorithm, **monthly contract, tenure and total charges are the most important predictor variables to predict churn.**\n",
    "\n",
    "# **Improvisation:**\n",
    "\n",
    "*   If the dataset contains **Equal samples** of both the classes better model can be build with higher accuracy, f1 score.\n",
    "\n",
    "*   If we can **collect more data**, it is always helpful in improving the model.\n",
    "\n",
    "*   **More information like customer's call history and international or local plans** opted will be added benefit for analyzing data.\n",
    "\n",
    "## **Suggestions for Expanding the Business:**\n",
    "*   **The company can target the Customers who have opted for TechSupport\tand Internet Service, as their potential customers who will not churn.** \n",
    "\n",
    "*   **The company shall target to increase the tenure of contract of customers with them as it is observed that customers with more tenure, do not Churn.**\n",
    "\n",
    "____________________________________END ________________________________________________\n",
    "\n",
    "\n",
    "\n",
    "\n",
    "\n",
    "\n"
   ]
  }
 ],
 "metadata": {
  "colab": {
   "collapsed_sections": [
    "XgOR1ZFz67_R"
   ],
   "name": "EST_PROJECT_DIPALI _J -JUNE_2021.ipynb",
   "provenance": []
  },
  "kernelspec": {
   "display_name": "Python 3",
   "language": "python",
   "name": "python3"
  },
  "language_info": {
   "codemirror_mode": {
    "name": "ipython",
    "version": 3
   },
   "file_extension": ".py",
   "mimetype": "text/x-python",
   "name": "python",
   "nbconvert_exporter": "python",
   "pygments_lexer": "ipython3",
   "version": "3.8.8"
  }
 },
 "nbformat": 4,
 "nbformat_minor": 1
}
